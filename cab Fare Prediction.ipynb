{
 "cells": [
  {
   "cell_type": "code",
   "execution_count": 186,
   "metadata": {},
   "outputs": [],
   "source": [
    "import pandas as pd\n",
    "import re\n",
    "import numpy as np\n",
    "import seaborn as sns\n",
    "import matplotlib.pyplot as plt\n",
    "import warnings\n",
    "import os\n",
    "from sklearn.ensemble import RandomForestRegressor\n",
    "from IPython.core.display import display,HTML\n",
    "import os\n",
    "from sklearn.metrics import r2_score\n",
    "from sklearn.metrics import mean_squared_error\n",
    "from scipy import stats\n",
    "from sklearn.model_selection import train_test_split\n",
    "from sklearn.metrics import mean_squared_error\n",
    "from sklearn import metrics\n",
    "from sklearn.linear_model import LinearRegression,Ridge,Lasso\n",
    "from sklearn.model_selection import GridSearchCV,RandomizedSearchCV,cross_val_score\n",
    "from sklearn.tree import DecisionTreeRegressor\n",
    "import joblib\n",
    "from sklearn import preprocessing\n",
    "from sklearn.model_selection import train_test_split\n",
    "from keras.models import Sequential\n",
    "from keras.layers import Dense, Dropout, BatchNormalization\n",
    "from keras.callbacks import EarlyStopping\n",
    "from keras import optimizers\n",
    "from keras import regularizers\n"
   ]
  },
  {
   "cell_type": "code",
   "execution_count": 187,
   "metadata": {},
   "outputs": [],
   "source": [
    "#import xgboost as xgb\n",
    "from fancyimpute import KNN"
   ]
  },
  {
   "cell_type": "code",
   "execution_count": 188,
   "metadata": {},
   "outputs": [],
   "source": [
    "#pip install -U numpy \n",
    "import numpy as np"
   ]
  },
  {
   "cell_type": "code",
   "execution_count": 189,
   "metadata": {},
   "outputs": [],
   "source": [
    "import xgboost"
   ]
  },
  {
   "cell_type": "code",
   "execution_count": 190,
   "metadata": {},
   "outputs": [],
   "source": [
    "#pip install xgboost\n",
    "from xgboost import XGBRegressor\n"
   ]
  },
  {
   "cell_type": "code",
   "execution_count": 191,
   "metadata": {},
   "outputs": [],
   "source": [
    "train=pd.read_csv('https://raw.githubusercontent.com/datascience-enthusiast/Cab-Fare-Prediction/master/train_cab.csv',na_values={'fare_amount':'430-'})\n",
    "test=pd.read_csv('https://raw.githubusercontent.com/datascience-enthusiast/Cab-Fare-Prediction/master/test.csv')\n"
   ]
  },
  {
   "cell_type": "code",
   "execution_count": null,
   "metadata": {},
   "outputs": [],
   "source": [
    "#pickup_datetime - timestamp value indicating when the cab ride started.\n",
    "#pickup_longitude - float for longitude coordinate of where the cab ride started.\n",
    "#pickup_latitude - float for latitude coordinate of where the cab ride started.\n",
    "#dropoff_longitude - float for longitude coordinate of where the cab ride ended.\n",
    "#dropoff_latitude - float for latitude coordinate of where the cab ride ended.\n",
    "#passenger_count - an integer indicating the number of passengers in the cabride"
   ]
  },
  {
   "cell_type": "markdown",
   "metadata": {},
   "source": [
    "# Understanding the data"
   ]
  },
  {
   "cell_type": "code",
   "execution_count": 192,
   "metadata": {},
   "outputs": [
    {
     "data": {
      "text/plain": [
       "(16067, 7)"
      ]
     },
     "execution_count": 192,
     "metadata": {},
     "output_type": "execute_result"
    }
   ],
   "source": [
    "train.shape"
   ]
  },
  {
   "cell_type": "code",
   "execution_count": 193,
   "metadata": {},
   "outputs": [
    {
     "data": {
      "text/plain": [
       "(9914, 6)"
      ]
     },
     "execution_count": 193,
     "metadata": {},
     "output_type": "execute_result"
    }
   ],
   "source": [
    "test.shape"
   ]
  },
  {
   "cell_type": "code",
   "execution_count": 194,
   "metadata": {},
   "outputs": [
    {
     "data": {
      "text/html": [
       "<div>\n",
       "<style scoped>\n",
       "    .dataframe tbody tr th:only-of-type {\n",
       "        vertical-align: middle;\n",
       "    }\n",
       "\n",
       "    .dataframe tbody tr th {\n",
       "        vertical-align: top;\n",
       "    }\n",
       "\n",
       "    .dataframe thead th {\n",
       "        text-align: right;\n",
       "    }\n",
       "</style>\n",
       "<table border=\"1\" class=\"dataframe\">\n",
       "  <thead>\n",
       "    <tr style=\"text-align: right;\">\n",
       "      <th></th>\n",
       "      <th>fare_amount</th>\n",
       "      <th>pickup_datetime</th>\n",
       "      <th>pickup_longitude</th>\n",
       "      <th>pickup_latitude</th>\n",
       "      <th>dropoff_longitude</th>\n",
       "      <th>dropoff_latitude</th>\n",
       "      <th>passenger_count</th>\n",
       "    </tr>\n",
       "  </thead>\n",
       "  <tbody>\n",
       "    <tr>\n",
       "      <th>0</th>\n",
       "      <td>4.5</td>\n",
       "      <td>2009-06-15 17:26:21 UTC</td>\n",
       "      <td>-73.844311</td>\n",
       "      <td>40.721319</td>\n",
       "      <td>-73.841610</td>\n",
       "      <td>40.712278</td>\n",
       "      <td>1.0</td>\n",
       "    </tr>\n",
       "    <tr>\n",
       "      <th>1</th>\n",
       "      <td>16.9</td>\n",
       "      <td>2010-01-05 16:52:16 UTC</td>\n",
       "      <td>-74.016048</td>\n",
       "      <td>40.711303</td>\n",
       "      <td>-73.979268</td>\n",
       "      <td>40.782004</td>\n",
       "      <td>1.0</td>\n",
       "    </tr>\n",
       "    <tr>\n",
       "      <th>2</th>\n",
       "      <td>5.7</td>\n",
       "      <td>2011-08-18 00:35:00 UTC</td>\n",
       "      <td>-73.982738</td>\n",
       "      <td>40.761270</td>\n",
       "      <td>-73.991242</td>\n",
       "      <td>40.750562</td>\n",
       "      <td>2.0</td>\n",
       "    </tr>\n",
       "    <tr>\n",
       "      <th>3</th>\n",
       "      <td>7.7</td>\n",
       "      <td>2012-04-21 04:30:42 UTC</td>\n",
       "      <td>-73.987130</td>\n",
       "      <td>40.733143</td>\n",
       "      <td>-73.991567</td>\n",
       "      <td>40.758092</td>\n",
       "      <td>1.0</td>\n",
       "    </tr>\n",
       "    <tr>\n",
       "      <th>4</th>\n",
       "      <td>5.3</td>\n",
       "      <td>2010-03-09 07:51:00 UTC</td>\n",
       "      <td>-73.968095</td>\n",
       "      <td>40.768008</td>\n",
       "      <td>-73.956655</td>\n",
       "      <td>40.783762</td>\n",
       "      <td>1.0</td>\n",
       "    </tr>\n",
       "  </tbody>\n",
       "</table>\n",
       "</div>"
      ],
      "text/plain": [
       "   fare_amount          pickup_datetime  pickup_longitude  pickup_latitude  \\\n",
       "0          4.5  2009-06-15 17:26:21 UTC        -73.844311        40.721319   \n",
       "1         16.9  2010-01-05 16:52:16 UTC        -74.016048        40.711303   \n",
       "2          5.7  2011-08-18 00:35:00 UTC        -73.982738        40.761270   \n",
       "3          7.7  2012-04-21 04:30:42 UTC        -73.987130        40.733143   \n",
       "4          5.3  2010-03-09 07:51:00 UTC        -73.968095        40.768008   \n",
       "\n",
       "   dropoff_longitude  dropoff_latitude  passenger_count  \n",
       "0         -73.841610         40.712278              1.0  \n",
       "1         -73.979268         40.782004              1.0  \n",
       "2         -73.991242         40.750562              2.0  \n",
       "3         -73.991567         40.758092              1.0  \n",
       "4         -73.956655         40.783762              1.0  "
      ]
     },
     "execution_count": 194,
     "metadata": {},
     "output_type": "execute_result"
    }
   ],
   "source": [
    "train.head()"
   ]
  },
  {
   "cell_type": "code",
   "execution_count": 195,
   "metadata": {},
   "outputs": [
    {
     "data": {
      "text/html": [
       "<div>\n",
       "<style scoped>\n",
       "    .dataframe tbody tr th:only-of-type {\n",
       "        vertical-align: middle;\n",
       "    }\n",
       "\n",
       "    .dataframe tbody tr th {\n",
       "        vertical-align: top;\n",
       "    }\n",
       "\n",
       "    .dataframe thead th {\n",
       "        text-align: right;\n",
       "    }\n",
       "</style>\n",
       "<table border=\"1\" class=\"dataframe\">\n",
       "  <thead>\n",
       "    <tr style=\"text-align: right;\">\n",
       "      <th></th>\n",
       "      <th>pickup_datetime</th>\n",
       "      <th>pickup_longitude</th>\n",
       "      <th>pickup_latitude</th>\n",
       "      <th>dropoff_longitude</th>\n",
       "      <th>dropoff_latitude</th>\n",
       "      <th>passenger_count</th>\n",
       "    </tr>\n",
       "  </thead>\n",
       "  <tbody>\n",
       "    <tr>\n",
       "      <th>0</th>\n",
       "      <td>2015-01-27 13:08:24 UTC</td>\n",
       "      <td>-73.973320</td>\n",
       "      <td>40.763805</td>\n",
       "      <td>-73.981430</td>\n",
       "      <td>40.743835</td>\n",
       "      <td>1</td>\n",
       "    </tr>\n",
       "    <tr>\n",
       "      <th>1</th>\n",
       "      <td>2015-01-27 13:08:24 UTC</td>\n",
       "      <td>-73.986862</td>\n",
       "      <td>40.719383</td>\n",
       "      <td>-73.998886</td>\n",
       "      <td>40.739201</td>\n",
       "      <td>1</td>\n",
       "    </tr>\n",
       "    <tr>\n",
       "      <th>2</th>\n",
       "      <td>2011-10-08 11:53:44 UTC</td>\n",
       "      <td>-73.982524</td>\n",
       "      <td>40.751260</td>\n",
       "      <td>-73.979654</td>\n",
       "      <td>40.746139</td>\n",
       "      <td>1</td>\n",
       "    </tr>\n",
       "    <tr>\n",
       "      <th>3</th>\n",
       "      <td>2012-12-01 21:12:12 UTC</td>\n",
       "      <td>-73.981160</td>\n",
       "      <td>40.767807</td>\n",
       "      <td>-73.990448</td>\n",
       "      <td>40.751635</td>\n",
       "      <td>1</td>\n",
       "    </tr>\n",
       "    <tr>\n",
       "      <th>4</th>\n",
       "      <td>2012-12-01 21:12:12 UTC</td>\n",
       "      <td>-73.966046</td>\n",
       "      <td>40.789775</td>\n",
       "      <td>-73.988565</td>\n",
       "      <td>40.744427</td>\n",
       "      <td>1</td>\n",
       "    </tr>\n",
       "  </tbody>\n",
       "</table>\n",
       "</div>"
      ],
      "text/plain": [
       "           pickup_datetime  pickup_longitude  pickup_latitude  \\\n",
       "0  2015-01-27 13:08:24 UTC        -73.973320        40.763805   \n",
       "1  2015-01-27 13:08:24 UTC        -73.986862        40.719383   \n",
       "2  2011-10-08 11:53:44 UTC        -73.982524        40.751260   \n",
       "3  2012-12-01 21:12:12 UTC        -73.981160        40.767807   \n",
       "4  2012-12-01 21:12:12 UTC        -73.966046        40.789775   \n",
       "\n",
       "   dropoff_longitude  dropoff_latitude  passenger_count  \n",
       "0         -73.981430         40.743835                1  \n",
       "1         -73.998886         40.739201                1  \n",
       "2         -73.979654         40.746139                1  \n",
       "3         -73.990448         40.751635                1  \n",
       "4         -73.988565         40.744427                1  "
      ]
     },
     "execution_count": 195,
     "metadata": {},
     "output_type": "execute_result"
    }
   ],
   "source": [
    "test.head()"
   ]
  },
  {
   "cell_type": "code",
   "execution_count": 196,
   "metadata": {},
   "outputs": [],
   "source": [
    "# as seen from the above 2 datasets we have 6 independent variables and 1 dependent variables in the train dataset and the\n",
    "#target variable is fare_amount"
   ]
  },
  {
   "cell_type": "code",
   "execution_count": 197,
   "metadata": {},
   "outputs": [],
   "source": [
    "#now getting info\n",
    "#train.info(null_counts=True)"
   ]
  },
  {
   "cell_type": "code",
   "execution_count": 198,
   "metadata": {},
   "outputs": [
    {
     "data": {
      "text/plain": [
       "fare_amount          float64\n",
       "pickup_datetime       object\n",
       "pickup_longitude     float64\n",
       "pickup_latitude      float64\n",
       "dropoff_longitude    float64\n",
       "dropoff_latitude     float64\n",
       "passenger_count      float64\n",
       "dtype: object"
      ]
     },
     "execution_count": 198,
     "metadata": {},
     "output_type": "execute_result"
    }
   ],
   "source": [
    "train.dtypes"
   ]
  },
  {
   "cell_type": "code",
   "execution_count": 199,
   "metadata": {},
   "outputs": [],
   "source": [
    "# converting  pickup datetime to datetime\n",
    "#train['pickup_datetime']=pd.to_datetime(train['pickup_datetime'],format=\"%Y-%m-%d %H:%M:%S UTC\")"
   ]
  },
  {
   "cell_type": "code",
   "execution_count": 200,
   "metadata": {},
   "outputs": [],
   "source": [
    "train=train.drop(train[train['pickup_datetime']=='43'].index,axis=0)\n"
   ]
  },
  {
   "cell_type": "code",
   "execution_count": 201,
   "metadata": {},
   "outputs": [],
   "source": [
    "train['pickup_datetime']=pd.to_datetime(train['pickup_datetime'],format=\"%Y-%m-%d %H:%M:%S UTC\",errors='coerce')"
   ]
  },
  {
   "cell_type": "code",
   "execution_count": 202,
   "metadata": {},
   "outputs": [
    {
     "data": {
      "text/plain": [
       "pickup_datetime       object\n",
       "pickup_longitude     float64\n",
       "pickup_latitude      float64\n",
       "dropoff_longitude    float64\n",
       "dropoff_latitude     float64\n",
       "passenger_count        int64\n",
       "dtype: object"
      ]
     },
     "execution_count": 202,
     "metadata": {},
     "output_type": "execute_result"
    }
   ],
   "source": [
    "test.dtypes"
   ]
  },
  {
   "cell_type": "code",
   "execution_count": 203,
   "metadata": {},
   "outputs": [],
   "source": [
    "test['passenger_count']=test['passenger_count'].astype(float)"
   ]
  },
  {
   "cell_type": "code",
   "execution_count": 204,
   "metadata": {},
   "outputs": [
    {
     "data": {
      "text/plain": [
       "fare_amount                 float64\n",
       "pickup_datetime      datetime64[ns]\n",
       "pickup_longitude            float64\n",
       "pickup_latitude             float64\n",
       "dropoff_longitude           float64\n",
       "dropoff_latitude            float64\n",
       "passenger_count             float64\n",
       "dtype: object"
      ]
     },
     "execution_count": 204,
     "metadata": {},
     "output_type": "execute_result"
    }
   ],
   "source": [
    "train.dtypes"
   ]
  },
  {
   "cell_type": "code",
   "execution_count": 205,
   "metadata": {},
   "outputs": [],
   "source": [
    "train['fare_amount']=train['fare_amount'].astype(float)"
   ]
  },
  {
   "cell_type": "markdown",
   "metadata": {},
   "source": [
    "# Missing Values Analysis"
   ]
  },
  {
   "cell_type": "code",
   "execution_count": 206,
   "metadata": {},
   "outputs": [
    {
     "data": {
      "text/plain": [
       "fare_amount          25\n",
       "pickup_datetime       0\n",
       "pickup_longitude      0\n",
       "pickup_latitude       0\n",
       "dropoff_longitude     0\n",
       "dropoff_latitude      0\n",
       "passenger_count      55\n",
       "dtype: int64"
      ]
     },
     "execution_count": 206,
     "metadata": {},
     "output_type": "execute_result"
    }
   ],
   "source": [
    "train.isnull().sum()"
   ]
  },
  {
   "cell_type": "code",
   "execution_count": 207,
   "metadata": {},
   "outputs": [
    {
     "data": {
      "text/plain": [
       "pickup_datetime      0\n",
       "pickup_longitude     0\n",
       "pickup_latitude      0\n",
       "dropoff_longitude    0\n",
       "dropoff_latitude     0\n",
       "passenger_count      0\n",
       "dtype: int64"
      ]
     },
     "execution_count": 207,
     "metadata": {},
     "output_type": "execute_result"
    }
   ],
   "source": [
    "test.isnull().sum()"
   ]
  },
  {
   "cell_type": "code",
   "execution_count": 208,
   "metadata": {},
   "outputs": [
    {
     "data": {
      "text/plain": [
       "passenger_count      55\n",
       "fare_amount          25\n",
       "dropoff_latitude      0\n",
       "dropoff_longitude     0\n",
       "pickup_latitude       0\n",
       "pickup_longitude      0\n",
       "pickup_datetime       0\n",
       "dtype: int64"
      ]
     },
     "execution_count": 208,
     "metadata": {},
     "output_type": "execute_result"
    }
   ],
   "source": [
    "train.isnull().sum().sort_values(ascending=False)"
   ]
  },
  {
   "cell_type": "code",
   "execution_count": 209,
   "metadata": {},
   "outputs": [],
   "source": [
    "train = train.drop(train[train.isnull().any(1)].index, axis = 0)"
   ]
  },
  {
   "cell_type": "code",
   "execution_count": 210,
   "metadata": {},
   "outputs": [
    {
     "data": {
      "text/plain": [
       "(15986, 7)"
      ]
     },
     "execution_count": 210,
     "metadata": {},
     "output_type": "execute_result"
    }
   ],
   "source": [
    "train.shape"
   ]
  },
  {
   "cell_type": "code",
   "execution_count": 211,
   "metadata": {},
   "outputs": [
    {
     "data": {
      "text/plain": [
       "count    15986.000000\n",
       "mean        15.030453\n",
       "std        431.213944\n",
       "min         -3.000000\n",
       "25%          6.000000\n",
       "50%          8.500000\n",
       "75%         12.500000\n",
       "max      54343.000000\n",
       "Name: fare_amount, dtype: float64"
      ]
     },
     "execution_count": 211,
     "metadata": {},
     "output_type": "execute_result"
    }
   ],
   "source": [
    "train['fare_amount'].describe()"
   ]
  },
  {
   "cell_type": "code",
   "execution_count": 212,
   "metadata": {},
   "outputs": [
    {
     "data": {
      "text/plain": [
       "Counter({False: 15982, True: 4})"
      ]
     },
     "execution_count": 212,
     "metadata": {},
     "output_type": "execute_result"
    }
   ],
   "source": [
    "#we check for any negative values in the fare_amount\n",
    "from collections import Counter\n",
    "Counter(train['fare_amount']<=0)"
   ]
  },
  {
   "cell_type": "code",
   "execution_count": 213,
   "metadata": {},
   "outputs": [
    {
     "data": {
      "text/plain": [
       "(15982, 7)"
      ]
     },
     "execution_count": 213,
     "metadata": {},
     "output_type": "execute_result"
    }
   ],
   "source": [
    "train = train.drop(train[train['fare_amount']<0].index, axis = 0) #3 observations dropped\n",
    "train = train.drop(train[train['fare_amount']== 0].index, axis = 0) #1 observations dropped\n",
    "train.shape"
   ]
  },
  {
   "cell_type": "code",
   "execution_count": 214,
   "metadata": {},
   "outputs": [
    {
     "data": {
      "text/plain": [
       "count    15982.000000\n",
       "mean        15.034740\n",
       "std        431.267821\n",
       "min          0.010000\n",
       "25%          6.000000\n",
       "50%          8.500000\n",
       "75%         12.500000\n",
       "max      54343.000000\n",
       "Name: fare_amount, dtype: float64"
      ]
     },
     "execution_count": 214,
     "metadata": {},
     "output_type": "execute_result"
    }
   ],
   "source": [
    "train['fare_amount'].describe()"
   ]
  },
  {
   "cell_type": "code",
   "execution_count": 215,
   "metadata": {},
   "outputs": [
    {
     "data": {
      "text/plain": [
       "1015    54343.00\n",
       "1072     4343.00\n",
       "607       453.00\n",
       "980       434.00\n",
       "1335      180.00\n",
       "          ...   \n",
       "9773        2.50\n",
       "8603        2.50\n",
       "8596        2.50\n",
       "1427        1.14\n",
       "2780        0.01\n",
       "Name: fare_amount, Length: 15982, dtype: float64"
      ]
     },
     "execution_count": 215,
     "metadata": {},
     "output_type": "execute_result"
    }
   ],
   "source": [
    "#from this we see that the max value in the fare column in 54343 which doesn't make any sense\n",
    "train['fare_amount'].sort_values(ascending = False)"
   ]
  },
  {
   "cell_type": "code",
   "execution_count": 216,
   "metadata": {},
   "outputs": [],
   "source": [
    "train=train.drop(train[train['fare_amount']==54343].index,axis=0)\n",
    "train=train.drop(train[train['fare_amount']==4343].index,axis=0)\n",
    "#After Checking highest fare_amount, fount that there 3 values which are highest and not possible in fare_amount\n",
    "train=train.drop(train[train['fare_amount']==0.01].index,axis=0)"
   ]
  },
  {
   "cell_type": "code",
   "execution_count": 217,
   "metadata": {},
   "outputs": [
    {
     "data": {
      "text/plain": [
       "(15979, 7)"
      ]
     },
     "execution_count": 217,
     "metadata": {},
     "output_type": "execute_result"
    }
   ],
   "source": [
    "train.shape"
   ]
  },
  {
   "cell_type": "code",
   "execution_count": 218,
   "metadata": {},
   "outputs": [
    {
     "data": {
      "text/plain": [
       "count    15979.000000\n",
       "mean         2.623795\n",
       "std         60.905468\n",
       "min          0.000000\n",
       "25%          1.000000\n",
       "50%          1.000000\n",
       "75%          2.000000\n",
       "max       5345.000000\n",
       "Name: passenger_count, dtype: float64"
      ]
     },
     "execution_count": 218,
     "metadata": {},
     "output_type": "execute_result"
    }
   ],
   "source": [
    "train['passenger_count'].describe()"
   ]
  },
  {
   "cell_type": "code",
   "execution_count": 219,
   "metadata": {},
   "outputs": [
    {
     "data": {
      "text/plain": [
       "1146     5345.0\n",
       "293      5334.0\n",
       "8985      557.0\n",
       "971       554.0\n",
       "8506      537.0\n",
       "          ...  \n",
       "9965        0.0\n",
       "3034        0.0\n",
       "3481        0.0\n",
       "15919       0.0\n",
       "11803       0.0\n",
       "Name: passenger_count, Length: 15979, dtype: float64"
      ]
     },
     "execution_count": 219,
     "metadata": {},
     "output_type": "execute_result"
    }
   ],
   "source": [
    "train['passenger_count'].sort_values(ascending=False)"
   ]
  },
  {
   "cell_type": "code",
   "execution_count": 220,
   "metadata": {},
   "outputs": [],
   "source": [
    "train=train.drop(train[train['passenger_count']>10].index,axis=0)\n"
   ]
  },
  {
   "cell_type": "code",
   "execution_count": 221,
   "metadata": {},
   "outputs": [
    {
     "data": {
      "text/plain": [
       "(15960, 7)"
      ]
     },
     "execution_count": 221,
     "metadata": {},
     "output_type": "execute_result"
    }
   ],
   "source": [
    "train.shape"
   ]
  },
  {
   "cell_type": "code",
   "execution_count": 222,
   "metadata": {},
   "outputs": [
    {
     "data": {
      "text/plain": [
       "count    15960.000000\n",
       "mean         1.643698\n",
       "std          1.267422\n",
       "min          0.000000\n",
       "25%          1.000000\n",
       "50%          1.000000\n",
       "75%          2.000000\n",
       "max          6.000000\n",
       "Name: passenger_count, dtype: float64"
      ]
     },
     "execution_count": 222,
     "metadata": {},
     "output_type": "execute_result"
    }
   ],
   "source": [
    "train['passenger_count'].describe()"
   ]
  },
  {
   "cell_type": "code",
   "execution_count": 223,
   "metadata": {},
   "outputs": [
    {
     "data": {
      "text/plain": [
       "5517     0.0\n",
       "9965     0.0\n",
       "12611    0.0\n",
       "3481     0.0\n",
       "3034     0.0\n",
       "        ... \n",
       "392      6.0\n",
       "10361    6.0\n",
       "13692    6.0\n",
       "373      6.0\n",
       "12363    6.0\n",
       "Name: passenger_count, Length: 15960, dtype: float64"
      ]
     },
     "execution_count": 223,
     "metadata": {},
     "output_type": "execute_result"
    }
   ],
   "source": [
    "train['passenger_count'].sort_values(ascending=True)"
   ]
  },
  {
   "cell_type": "code",
   "execution_count": 224,
   "metadata": {},
   "outputs": [],
   "source": [
    "#now deleting the passenger counts which are in 0's and in decimals as these are outliers\n",
    "train=train.drop(train[train['passenger_count']==0].index,axis=0)\n"
   ]
  },
  {
   "cell_type": "code",
   "execution_count": 225,
   "metadata": {},
   "outputs": [
    {
     "data": {
      "text/plain": [
       "8862     0.12\n",
       "0        1.00\n",
       "9797     1.00\n",
       "9798     1.00\n",
       "9801     1.00\n",
       "         ... \n",
       "5019     6.00\n",
       "7455     6.00\n",
       "10657    6.00\n",
       "8459     6.00\n",
       "8881     6.00\n",
       "Name: passenger_count, Length: 15903, dtype: float64"
      ]
     },
     "execution_count": 225,
     "metadata": {},
     "output_type": "execute_result"
    }
   ],
   "source": [
    "train['passenger_count'].sort_values(ascending=True)"
   ]
  },
  {
   "cell_type": "code",
   "execution_count": 226,
   "metadata": {},
   "outputs": [],
   "source": [
    "# we found value 0.12 which is also a outlier dropping it\n",
    "train=train.drop(train[train['passenger_count']==0.12].index,axis=0)\n"
   ]
  },
  {
   "cell_type": "code",
   "execution_count": 227,
   "metadata": {},
   "outputs": [
    {
     "data": {
      "text/plain": [
       "count    15902.000000\n",
       "mean         1.649686\n",
       "std          1.265840\n",
       "min          1.000000\n",
       "25%          1.000000\n",
       "50%          1.000000\n",
       "75%          2.000000\n",
       "max          6.000000\n",
       "Name: passenger_count, dtype: float64"
      ]
     },
     "execution_count": 227,
     "metadata": {},
     "output_type": "execute_result"
    }
   ],
   "source": [
    "train['passenger_count'].describe()"
   ]
  },
  {
   "cell_type": "code",
   "execution_count": 228,
   "metadata": {},
   "outputs": [
    {
     "data": {
      "text/plain": [
       "count    15902.000000\n",
       "mean       -72.474987\n",
       "std         10.538452\n",
       "min        -74.438233\n",
       "25%        -73.992144\n",
       "50%        -73.981691\n",
       "75%        -73.966805\n",
       "max         40.766125\n",
       "Name: pickup_longitude, dtype: float64"
      ]
     },
     "execution_count": 228,
     "metadata": {},
     "output_type": "execute_result"
    }
   ],
   "source": [
    "train['pickup_longitude'].describe()"
   ]
  },
  {
   "cell_type": "markdown",
   "metadata": {},
   "source": [
    "# New York City Latitude and longitude coordinates are: 40.730610, -73.935242."
   ]
  },
  {
   "cell_type": "code",
   "execution_count": 229,
   "metadata": {},
   "outputs": [],
   "source": [
    "#Latitude ranges from 39 to 43\n",
    "#Longitude ranges from -72 to -76\n",
    "#so dropping all the other regions\n",
    "train = train.drop(train[train['pickup_latitude']<39].index, axis=0) "
   ]
  },
  {
   "cell_type": "code",
   "execution_count": 230,
   "metadata": {},
   "outputs": [
    {
     "data": {
      "text/plain": [
       "(15584, 7)"
      ]
     },
     "execution_count": 230,
     "metadata": {},
     "output_type": "execute_result"
    }
   ],
   "source": [
    "train.shape"
   ]
  },
  {
   "cell_type": "code",
   "execution_count": 231,
   "metadata": {},
   "outputs": [],
   "source": [
    "train = train.drop(train[train['pickup_latitude']>43].index, axis=0)"
   ]
  },
  {
   "cell_type": "code",
   "execution_count": 232,
   "metadata": {},
   "outputs": [
    {
     "data": {
      "text/plain": [
       "(15583, 7)"
      ]
     },
     "execution_count": 232,
     "metadata": {},
     "output_type": "execute_result"
    }
   ],
   "source": [
    "train.shape"
   ]
  },
  {
   "cell_type": "code",
   "execution_count": 233,
   "metadata": {},
   "outputs": [
    {
     "data": {
      "text/plain": [
       "count    15583.000000\n",
       "mean        40.750923\n",
       "std          0.038016\n",
       "min         39.603178\n",
       "25%         40.736592\n",
       "50%         40.753368\n",
       "75%         40.767805\n",
       "max         41.366138\n",
       "Name: pickup_latitude, dtype: float64"
      ]
     },
     "execution_count": 233,
     "metadata": {},
     "output_type": "execute_result"
    }
   ],
   "source": [
    "train['pickup_latitude'].describe()"
   ]
  },
  {
   "cell_type": "code",
   "execution_count": 234,
   "metadata": {},
   "outputs": [
    {
     "data": {
      "text/plain": [
       "count    15583.000000\n",
       "mean       -73.974797\n",
       "std          0.041558\n",
       "min        -74.438233\n",
       "25%        -73.992373\n",
       "50%        -73.982049\n",
       "75%        -73.968079\n",
       "max        -73.137393\n",
       "Name: pickup_longitude, dtype: float64"
      ]
     },
     "execution_count": 234,
     "metadata": {},
     "output_type": "execute_result"
    }
   ],
   "source": [
    "train['pickup_longitude'].describe()"
   ]
  },
  {
   "cell_type": "code",
   "execution_count": 235,
   "metadata": {},
   "outputs": [],
   "source": [
    "train = train.drop(train[train['pickup_longitude']>-72].index, axis=0) "
   ]
  },
  {
   "cell_type": "code",
   "execution_count": 236,
   "metadata": {},
   "outputs": [
    {
     "data": {
      "text/plain": [
       "(15583, 7)"
      ]
     },
     "execution_count": 236,
     "metadata": {},
     "output_type": "execute_result"
    }
   ],
   "source": [
    "train.shape"
   ]
  },
  {
   "cell_type": "code",
   "execution_count": 237,
   "metadata": {},
   "outputs": [],
   "source": [
    "train = train.drop(train[train['pickup_longitude']<-76].index, axis=0) "
   ]
  },
  {
   "cell_type": "code",
   "execution_count": 238,
   "metadata": {},
   "outputs": [
    {
     "data": {
      "text/plain": [
       "(15583, 7)"
      ]
     },
     "execution_count": 238,
     "metadata": {},
     "output_type": "execute_result"
    }
   ],
   "source": [
    "train.shape"
   ]
  },
  {
   "cell_type": "code",
   "execution_count": 239,
   "metadata": {},
   "outputs": [
    {
     "data": {
      "text/plain": [
       "count    15583.000000\n",
       "mean        40.725305\n",
       "std          1.030963\n",
       "min          0.000000\n",
       "25%         40.736300\n",
       "50%         40.754217\n",
       "75%         40.768311\n",
       "max         41.366138\n",
       "Name: dropoff_latitude, dtype: float64"
      ]
     },
     "execution_count": 239,
     "metadata": {},
     "output_type": "execute_result"
    }
   ],
   "source": [
    "train['dropoff_latitude'].describe()"
   ]
  },
  {
   "cell_type": "code",
   "execution_count": 240,
   "metadata": {},
   "outputs": [],
   "source": [
    "train = train.drop(train[train['dropoff_latitude']<39].index, axis=0)"
   ]
  },
  {
   "cell_type": "code",
   "execution_count": 241,
   "metadata": {},
   "outputs": [],
   "source": [
    "train = train.drop(train[train['dropoff_latitude']>43].index, axis=0)"
   ]
  },
  {
   "cell_type": "code",
   "execution_count": 242,
   "metadata": {},
   "outputs": [],
   "source": [
    "train = train.drop(train[train['dropoff_longitude']>-72].index, axis=0)"
   ]
  },
  {
   "cell_type": "code",
   "execution_count": 243,
   "metadata": {},
   "outputs": [],
   "source": [
    "train = train.drop(train[train['dropoff_longitude']<-76].index, axis=0)"
   ]
  },
  {
   "cell_type": "code",
   "execution_count": 244,
   "metadata": {},
   "outputs": [
    {
     "data": {
      "text/plain": [
       "(15570, 7)"
      ]
     },
     "execution_count": 244,
     "metadata": {},
     "output_type": "execute_result"
    }
   ],
   "source": [
    "train.shape"
   ]
  },
  {
   "cell_type": "markdown",
   "metadata": {},
   "source": [
    "# Feature Selection"
   ]
  },
  {
   "cell_type": "code",
   "execution_count": 245,
   "metadata": {},
   "outputs": [
    {
     "data": {
      "text/html": [
       "<div>\n",
       "<style scoped>\n",
       "    .dataframe tbody tr th:only-of-type {\n",
       "        vertical-align: middle;\n",
       "    }\n",
       "\n",
       "    .dataframe tbody tr th {\n",
       "        vertical-align: top;\n",
       "    }\n",
       "\n",
       "    .dataframe thead th {\n",
       "        text-align: right;\n",
       "    }\n",
       "</style>\n",
       "<table border=\"1\" class=\"dataframe\">\n",
       "  <thead>\n",
       "    <tr style=\"text-align: right;\">\n",
       "      <th></th>\n",
       "      <th>fare_amount</th>\n",
       "      <th>pickup_longitude</th>\n",
       "      <th>pickup_latitude</th>\n",
       "      <th>dropoff_longitude</th>\n",
       "      <th>dropoff_latitude</th>\n",
       "      <th>passenger_count</th>\n",
       "    </tr>\n",
       "  </thead>\n",
       "  <tbody>\n",
       "    <tr>\n",
       "      <th>fare_amount</th>\n",
       "      <td>1.000000</td>\n",
       "      <td>0.298960</td>\n",
       "      <td>-0.131786</td>\n",
       "      <td>0.252538</td>\n",
       "      <td>-0.105001</td>\n",
       "      <td>0.004734</td>\n",
       "    </tr>\n",
       "    <tr>\n",
       "      <th>pickup_longitude</th>\n",
       "      <td>0.298960</td>\n",
       "      <td>1.000000</td>\n",
       "      <td>0.196346</td>\n",
       "      <td>0.390560</td>\n",
       "      <td>0.154156</td>\n",
       "      <td>-0.004675</td>\n",
       "    </tr>\n",
       "    <tr>\n",
       "      <th>pickup_latitude</th>\n",
       "      <td>-0.131786</td>\n",
       "      <td>0.196346</td>\n",
       "      <td>1.000000</td>\n",
       "      <td>0.158357</td>\n",
       "      <td>0.505780</td>\n",
       "      <td>-0.003151</td>\n",
       "    </tr>\n",
       "    <tr>\n",
       "      <th>dropoff_longitude</th>\n",
       "      <td>0.252538</td>\n",
       "      <td>0.390560</td>\n",
       "      <td>0.158357</td>\n",
       "      <td>1.000000</td>\n",
       "      <td>0.260921</td>\n",
       "      <td>-0.007609</td>\n",
       "    </tr>\n",
       "    <tr>\n",
       "      <th>dropoff_latitude</th>\n",
       "      <td>-0.105001</td>\n",
       "      <td>0.154156</td>\n",
       "      <td>0.505780</td>\n",
       "      <td>0.260921</td>\n",
       "      <td>1.000000</td>\n",
       "      <td>-0.003112</td>\n",
       "    </tr>\n",
       "    <tr>\n",
       "      <th>passenger_count</th>\n",
       "      <td>0.004734</td>\n",
       "      <td>-0.004675</td>\n",
       "      <td>-0.003151</td>\n",
       "      <td>-0.007609</td>\n",
       "      <td>-0.003112</td>\n",
       "      <td>1.000000</td>\n",
       "    </tr>\n",
       "  </tbody>\n",
       "</table>\n",
       "</div>"
      ],
      "text/plain": [
       "                   fare_amount  pickup_longitude  pickup_latitude  \\\n",
       "fare_amount           1.000000          0.298960        -0.131786   \n",
       "pickup_longitude      0.298960          1.000000         0.196346   \n",
       "pickup_latitude      -0.131786          0.196346         1.000000   \n",
       "dropoff_longitude     0.252538          0.390560         0.158357   \n",
       "dropoff_latitude     -0.105001          0.154156         0.505780   \n",
       "passenger_count       0.004734         -0.004675        -0.003151   \n",
       "\n",
       "                   dropoff_longitude  dropoff_latitude  passenger_count  \n",
       "fare_amount                 0.252538         -0.105001         0.004734  \n",
       "pickup_longitude            0.390560          0.154156        -0.004675  \n",
       "pickup_latitude             0.158357          0.505780        -0.003151  \n",
       "dropoff_longitude           1.000000          0.260921        -0.007609  \n",
       "dropoff_latitude            0.260921          1.000000        -0.003112  \n",
       "passenger_count            -0.007609         -0.003112         1.000000  "
      ]
     },
     "execution_count": 245,
     "metadata": {},
     "output_type": "execute_result"
    }
   ],
   "source": [
    "#correlation matrix to understand how the each variable related with each other\n",
    "corr=train.corr()\n",
    "corr"
   ]
  },
  {
   "cell_type": "code",
   "execution_count": 246,
   "metadata": {},
   "outputs": [
    {
     "name": "stderr",
     "output_type": "stream",
     "text": [
      "C:\\Users\\lalit\\anaconda3\\lib\\site-packages\\ipykernel_launcher.py:2: DeprecationWarning: `np.bool` is a deprecated alias for the builtin `bool`. To silence this warning, use `bool` by itself. Doing this will not modify any behavior and is safe. If you specifically wanted the numpy scalar type, use `np.bool_` here.\n",
      "Deprecated in NumPy 1.20; for more details and guidance: https://numpy.org/devdocs/release/1.20.0-notes.html#deprecations\n",
      "  \n"
     ]
    },
    {
     "data": {
      "text/plain": [
       "<matplotlib.axes._subplots.AxesSubplot at 0x11bbfd30188>"
      ]
     },
     "execution_count": 246,
     "metadata": {},
     "output_type": "execute_result"
    },
    {
     "data": {
      "image/png": "[encoded data removed]",
      "text/plain": [
       "<Figure size 432x288 with 2 Axes>"
      ]
     },
     "metadata": {
      "needs_background": "light"
     },
     "output_type": "display_data"
    }
   ],
   "source": [
    "# we see that each variable in dataset is independent and not correlated with each other. So, each variable or feature play an important role to predict the fare_amount\n",
    "sns.heatmap(corr, mask=np.zeros_like(corr, dtype=np.bool),cmap = sns.diverging_palette(220,10,as_cmap=True),square =True)"
   ]
  },
  {
   "cell_type": "code",
   "execution_count": 247,
   "metadata": {},
   "outputs": [
    {
     "data": {
      "image/png": "[encoded data removed]",
      "text/plain": [
       "<Figure size 432x288 with 1 Axes>"
      ]
     },
     "metadata": {
      "needs_background": "light"
     },
     "output_type": "display_data"
    },
    {
     "data": {
      "image/png": "[encoded data removed]",
      "text/plain": [
       "<Figure size 432x288 with 1 Axes>"
      ]
     },
     "metadata": {
      "needs_background": "light"
     },
     "output_type": "display_data"
    },
    {
     "data": {
      "image/png": "[encoded data removed]",
      "text/plain": [
       "<Figure size 432x288 with 1 Axes>"
      ]
     },
     "metadata": {
      "needs_background": "light"
     },
     "output_type": "display_data"
    }
   ],
   "source": [
    "continous_columns=['pickup_longitude','pickup_latitude','dropoff_longitude']\n",
    "for i,col in enumerate(continous_columns):\n",
    "    plt.figure(i)\n",
    "    plt.axvline(train[col].mean(),0,0.7,color='g')\n",
    "    sns.distplot(train[col],color='b')"
   ]
  },
  {
   "cell_type": "code",
   "execution_count": 248,
   "metadata": {},
   "outputs": [
    {
     "name": "stderr",
     "output_type": "stream",
     "text": [
      "C:\\Users\\lalit\\anaconda3\\lib\\site-packages\\seaborn\\categorical.py:3669: UserWarning: The `factorplot` function has been renamed to `catplot`. The original name will be removed in a future release. Please update your code. Note that the default `kind` in `factorplot` (`'point'`) has changed `'strip'` in `catplot`.\n",
      "  warnings.warn(msg)\n",
      "C:\\Users\\lalit\\anaconda3\\lib\\site-packages\\seaborn\\categorical.py:3675: UserWarning: The `size` parameter has been renamed to `height`; please update your code.\n",
      "  warnings.warn(msg, UserWarning)\n"
     ]
    },
    {
     "data": {
      "image/png": "[encoded data removed]",
      "text/plain": [
       "<Figure size 576x288 with 1 Axes>"
      ]
     },
     "metadata": {
      "needs_background": "light"
     },
     "output_type": "display_data"
    }
   ],
   "source": [
    "category_columns_names=['passenger_count']\n",
    "for i in category_columns_names:\n",
    "    sns.factorplot(data=train,x=i,kind='count',size=4,aspect=2)"
   ]
  },
  {
   "cell_type": "code",
   "execution_count": 249,
   "metadata": {},
   "outputs": [
    {
     "data": {
      "text/plain": [
       "Text(0.5, 1.0, 'Histogram for Fare and people')"
      ]
     },
     "execution_count": 249,
     "metadata": {},
     "output_type": "execute_result"
    },
    {
     "data": {
      "image/png": "[encoded data removed]",
      "text/plain": [
       "<Figure size 1080x864 with 1 Axes>"
      ]
     },
     "metadata": {
      "needs_background": "light"
     },
     "output_type": "display_data"
    }
   ],
   "source": [
    "train[train['fare_amount']<50].fare_amount.hist(figsize=(15,12))\n",
    "plt.xlabel('Fare in Euros/Dollars')\n",
    "plt.ylabel('People')\n",
    "plt.title('Histogram for Fare and people')"
   ]
  },
  {
   "cell_type": "code",
   "execution_count": 250,
   "metadata": {},
   "outputs": [
    {
     "name": "stderr",
     "output_type": "stream",
     "text": [
      "C:\\Users\\lalit\\anaconda3\\lib\\site-packages\\seaborn\\axisgrid.py:1848: UserWarning: JointGrid annotation is deprecated and will be removed in a future release.\n",
      "  warnings.warn(UserWarning(msg))\n"
     ]
    },
    {
     "data": {
      "image/png": "[encoded data removed]",
      "text/plain": [
       "<Figure size 432x432 with 3 Axes>"
      ]
     },
     "metadata": {
      "needs_background": "light"
     },
     "output_type": "display_data"
    }
   ],
   "source": [
    "a= sns.jointplot(x='fare_amount',y='pickup_longitude',data=train,kind = 'reg')\n",
    "a.annotate(stats.pearsonr)\n",
    "# plt.savefig('jointfplo.png')\n",
    "plt.show()"
   ]
  },
  {
   "cell_type": "code",
   "execution_count": 251,
   "metadata": {},
   "outputs": [
    {
     "name": "stderr",
     "output_type": "stream",
     "text": [
      "C:\\Users\\lalit\\anaconda3\\lib\\site-packages\\seaborn\\axisgrid.py:1848: UserWarning: JointGrid annotation is deprecated and will be removed in a future release.\n",
      "  warnings.warn(UserWarning(msg))\n"
     ]
    },
    {
     "data": {
      "image/png": "[encoded data removed]",
      "text/plain": [
       "<Figure size 432x432 with 3 Axes>"
      ]
     },
     "metadata": {
      "needs_background": "light"
     },
     "output_type": "display_data"
    }
   ],
   "source": [
    "a= sns.jointplot(x='fare_amount',y='pickup_latitude',data=train,kind = 'reg')\n",
    "a.annotate(stats.pearsonr)\n",
    "# plt.savefig('jointfpla.png')\n",
    "plt.show()"
   ]
  },
  {
   "cell_type": "code",
   "execution_count": 252,
   "metadata": {},
   "outputs": [
    {
     "name": "stderr",
     "output_type": "stream",
     "text": [
      "C:\\Users\\lalit\\anaconda3\\lib\\site-packages\\seaborn\\axisgrid.py:1848: UserWarning: JointGrid annotation is deprecated and will be removed in a future release.\n",
      "  warnings.warn(UserWarning(msg))\n"
     ]
    },
    {
     "data": {
      "image/png": "[encoded data removed]",
      "text/plain": [
       "<Figure size 432x432 with 3 Axes>"
      ]
     },
     "metadata": {
      "needs_background": "light"
     },
     "output_type": "display_data"
    }
   ],
   "source": [
    "a= sns.jointplot(x='fare_amount',y='dropoff_longitude',data=train,kind = 'reg')\n",
    "a.annotate(stats.pearsonr)\n",
    "# plt.savefig('jointfdlo.png')\n",
    "plt.show()"
   ]
  },
  {
   "cell_type": "code",
   "execution_count": 253,
   "metadata": {},
   "outputs": [
    {
     "data": {
      "text/plain": [
       "fare_amount                 float64\n",
       "pickup_datetime      datetime64[ns]\n",
       "pickup_longitude            float64\n",
       "pickup_latitude             float64\n",
       "dropoff_longitude           float64\n",
       "dropoff_latitude            float64\n",
       "passenger_count             float64\n",
       "dtype: object"
      ]
     },
     "execution_count": 253,
     "metadata": {},
     "output_type": "execute_result"
    }
   ],
   "source": [
    "train.dtypes"
   ]
  },
  {
   "cell_type": "code",
   "execution_count": 254,
   "metadata": {},
   "outputs": [
    {
     "data": {
      "text/plain": [
       "pickup_datetime       object\n",
       "pickup_longitude     float64\n",
       "pickup_latitude      float64\n",
       "dropoff_longitude    float64\n",
       "dropoff_latitude     float64\n",
       "passenger_count      float64\n",
       "dtype: object"
      ]
     },
     "execution_count": 254,
     "metadata": {},
     "output_type": "execute_result"
    }
   ],
   "source": [
    "test.dtypes"
   ]
  },
  {
   "cell_type": "code",
   "execution_count": 255,
   "metadata": {},
   "outputs": [
    {
     "data": {
      "text/html": [
       "<div>\n",
       "<style scoped>\n",
       "    .dataframe tbody tr th:only-of-type {\n",
       "        vertical-align: middle;\n",
       "    }\n",
       "\n",
       "    .dataframe tbody tr th {\n",
       "        vertical-align: top;\n",
       "    }\n",
       "\n",
       "    .dataframe thead th {\n",
       "        text-align: right;\n",
       "    }\n",
       "</style>\n",
       "<table border=\"1\" class=\"dataframe\">\n",
       "  <thead>\n",
       "    <tr style=\"text-align: right;\">\n",
       "      <th></th>\n",
       "      <th>fare_amount</th>\n",
       "      <th>pickup_datetime</th>\n",
       "      <th>pickup_longitude</th>\n",
       "      <th>pickup_latitude</th>\n",
       "      <th>dropoff_longitude</th>\n",
       "      <th>dropoff_latitude</th>\n",
       "      <th>passenger_count</th>\n",
       "    </tr>\n",
       "  </thead>\n",
       "  <tbody>\n",
       "    <tr>\n",
       "      <th>0</th>\n",
       "      <td>4.5</td>\n",
       "      <td>2009-06-15 17:26:21</td>\n",
       "      <td>-73.844311</td>\n",
       "      <td>40.721319</td>\n",
       "      <td>-73.841610</td>\n",
       "      <td>40.712278</td>\n",
       "      <td>1.0</td>\n",
       "    </tr>\n",
       "    <tr>\n",
       "      <th>1</th>\n",
       "      <td>16.9</td>\n",
       "      <td>2010-01-05 16:52:16</td>\n",
       "      <td>-74.016048</td>\n",
       "      <td>40.711303</td>\n",
       "      <td>-73.979268</td>\n",
       "      <td>40.782004</td>\n",
       "      <td>1.0</td>\n",
       "    </tr>\n",
       "    <tr>\n",
       "      <th>2</th>\n",
       "      <td>5.7</td>\n",
       "      <td>2011-08-18 00:35:00</td>\n",
       "      <td>-73.982738</td>\n",
       "      <td>40.761270</td>\n",
       "      <td>-73.991242</td>\n",
       "      <td>40.750562</td>\n",
       "      <td>2.0</td>\n",
       "    </tr>\n",
       "    <tr>\n",
       "      <th>3</th>\n",
       "      <td>7.7</td>\n",
       "      <td>2012-04-21 04:30:42</td>\n",
       "      <td>-73.987130</td>\n",
       "      <td>40.733143</td>\n",
       "      <td>-73.991567</td>\n",
       "      <td>40.758092</td>\n",
       "      <td>1.0</td>\n",
       "    </tr>\n",
       "    <tr>\n",
       "      <th>4</th>\n",
       "      <td>5.3</td>\n",
       "      <td>2010-03-09 07:51:00</td>\n",
       "      <td>-73.968095</td>\n",
       "      <td>40.768008</td>\n",
       "      <td>-73.956655</td>\n",
       "      <td>40.783762</td>\n",
       "      <td>1.0</td>\n",
       "    </tr>\n",
       "  </tbody>\n",
       "</table>\n",
       "</div>"
      ],
      "text/plain": [
       "   fare_amount     pickup_datetime  pickup_longitude  pickup_latitude  \\\n",
       "0          4.5 2009-06-15 17:26:21        -73.844311        40.721319   \n",
       "1         16.9 2010-01-05 16:52:16        -74.016048        40.711303   \n",
       "2          5.7 2011-08-18 00:35:00        -73.982738        40.761270   \n",
       "3          7.7 2012-04-21 04:30:42        -73.987130        40.733143   \n",
       "4          5.3 2010-03-09 07:51:00        -73.968095        40.768008   \n",
       "\n",
       "   dropoff_longitude  dropoff_latitude  passenger_count  \n",
       "0         -73.841610         40.712278              1.0  \n",
       "1         -73.979268         40.782004              1.0  \n",
       "2         -73.991242         40.750562              2.0  \n",
       "3         -73.991567         40.758092              1.0  \n",
       "4         -73.956655         40.783762              1.0  "
      ]
     },
     "execution_count": 255,
     "metadata": {},
     "output_type": "execute_result"
    }
   ],
   "source": [
    "train.head()"
   ]
  },
  {
   "cell_type": "markdown",
   "metadata": {},
   "source": [
    "# Exploratory Data Analysis"
   ]
  },
  {
   "cell_type": "code",
   "execution_count": 256,
   "metadata": {},
   "outputs": [],
   "source": [
    "#Does the passenger_count (Number of Passengers) affect the fare_amount (fare)?\n",
    "#Does the pickup_datetime (Pickup Date & Time) affect the fare_amount (fare)?\n",
    "#Does the day of the week affect the fare_amount (fare)?\n",
    "#Does the distance travelled affect the fare_amount (fare)?"
   ]
  },
  {
   "cell_type": "code",
   "execution_count": 257,
   "metadata": {},
   "outputs": [
    {
     "name": "stdout",
     "output_type": "stream",
     "text": [
      "passenger count above 4=1318\n",
      "passenger count above 5=294\n",
      "passenger count above 6=0\n",
      "passenger count above 7=0\n",
      "passenger count above 8=0\n",
      "passenger count above 9=0\n",
      "passenger count above 10=0\n"
     ]
    }
   ],
   "source": [
    "for i in range(4,11):\n",
    "    print('passenger count above '+str(i)+'={}'.format(sum(train['passenger_count']>i)))"
   ]
  },
  {
   "cell_type": "code",
   "execution_count": 258,
   "metadata": {},
   "outputs": [],
   "source": [
    "train['pickup_datetime'] = train['pickup_datetime'].dt.strftime('%Y-%m-%d %H:%M:%S UTC')"
   ]
  },
  {
   "cell_type": "code",
   "execution_count": 259,
   "metadata": {},
   "outputs": [
    {
     "data": {
      "image/png": "[encoded data removed]",
      "text/plain": [
       "<Figure size 1440x720 with 1 Axes>"
      ]
     },
     "metadata": {
      "needs_background": "light"
     },
     "output_type": "display_data"
    }
   ],
   "source": [
    "#bivariate analysis\n",
    "plt.figure(figsize=(20,10))\n",
    "plt.xlim(0,100)\n",
    "a= sns.boxplot(x=train['fare_amount'],y=train['passenger_count'],data=train,orient='h')\n",
    "plt.title('Boxplot of fare_amount w.r.t passenger_count')\n",
    "# plt.savefig('Boxplot of fare_amount w.r.t passenger_count.png')\n",
    "plt.show()"
   ]
  },
  {
   "cell_type": "code",
   "execution_count": 260,
   "metadata": {},
   "outputs": [
    {
     "data": {
      "image/png": "[encoded data removed]",
      "text/plain": [
       "<Figure size 1440x360 with 1 Axes>"
      ]
     },
     "metadata": {
      "needs_background": "light"
     },
     "output_type": "display_data"
    }
   ],
   "source": [
    "#Univariate Boxplots: Boxplots for all Numerical Variables including target variable\n",
    "\n",
    "plt.figure(figsize=(20,5)) \n",
    "plt.xlim(0,100)\n",
    "sns.boxplot(x=train['fare_amount'],data=train,orient='h')\n",
    "plt.title('Boxplot of fare_amount')\n",
    "# plt.savefig('bp of fare_amount.png')\n",
    "plt.show()"
   ]
  },
  {
   "cell_type": "code",
   "execution_count": 261,
   "metadata": {},
   "outputs": [],
   "source": [
    "#how the pickup_location affect the fare_amoun\n",
    "#we first splitted the dataset into year,month,date,hour\n",
    "data = [train, test]\n",
    "#for i in data:\n",
    " #   i['Year'] = i ['pickup_datetime'].dt.year\n",
    "  #  i['Month'] = i ['pickup_datetime'].dt.month\n",
    "   # i['Date'] = i ['pickup_datetime'].dt.day\n",
    "   #i['Day_of_week'] = i ['pickup_datetime'].dt.dayofweek\n",
    "    #i['Hour'] = i ['pickup_datetime'].dt.hour"
   ]
  },
  {
   "cell_type": "code",
   "execution_count": 263,
   "metadata": {},
   "outputs": [],
   "source": [
    "#Does the passenger_count (Number of Passengers) affect the fare_amount (fare)?"
   ]
  },
  {
   "cell_type": "code",
   "execution_count": 264,
   "metadata": {},
   "outputs": [
    {
     "data": {
      "text/plain": [
       "Text(0, 0.5, 'Frequency')"
      ]
     },
     "execution_count": 264,
     "metadata": {},
     "output_type": "execute_result"
    },
    {
     "data": {
      "image/png": "[encoded data removed]",
      "text/plain": [
       "<Figure size 1080x504 with 1 Axes>"
      ]
     },
     "metadata": {
      "needs_background": "light"
     },
     "output_type": "display_data"
    }
   ],
   "source": [
    "plt.figure(figsize = (15,7))\n",
    "plt.hist(train['passenger_count'], bins=15)\n",
    "plt.xlabel('No of Passengers')\n",
    "plt.ylabel('Frequency')"
   ]
  },
  {
   "cell_type": "code",
   "execution_count": 265,
   "metadata": {},
   "outputs": [
    {
     "data": {
      "text/plain": [
       "Text(0, 0.5, 'Fare')"
      ]
     },
     "execution_count": 265,
     "metadata": {},
     "output_type": "execute_result"
    },
    {
     "data": {
      "image/png": "[encoded data removed]",
      "text/plain": [
       "<Figure size 1080x504 with 1 Axes>"
      ]
     },
     "metadata": {
      "needs_background": "light"
     },
     "output_type": "display_data"
    }
   ],
   "source": [
    "plt.figure(figsize = (15,7))\n",
    "plt.scatter(x = train['passenger_count'], y = train['fare_amount'], s=1.5)\n",
    "plt.xlabel('No of Passengers')\n",
    "plt.ylabel('Fare')# I see that single passenger is most frequent travellers, and highest fare also seems to come from cabs which carry just the 1 passenger"
   ]
  },
  {
   "cell_type": "code",
   "execution_count": 266,
   "metadata": {},
   "outputs": [],
   "source": [
    "train['pickup_datetime'] = pd.to_datetime(train['pickup_datetime'],errors='coerce')"
   ]
  },
  {
   "cell_type": "code",
   "execution_count": 267,
   "metadata": {},
   "outputs": [
    {
     "data": {
      "text/plain": [
       "fare_amount          0\n",
       "pickup_datetime      0\n",
       "pickup_longitude     0\n",
       "pickup_latitude      0\n",
       "dropoff_longitude    0\n",
       "dropoff_latitude     0\n",
       "passenger_count      0\n",
       "dtype: int64"
      ]
     },
     "execution_count": 267,
     "metadata": {},
     "output_type": "execute_result"
    }
   ],
   "source": [
    "train.isnull().sum()"
   ]
  },
  {
   "cell_type": "code",
   "execution_count": 269,
   "metadata": {},
   "outputs": [],
   "source": [
    "train['pickup_year'] = train['pickup_datetime'].dt.year\n",
    "train['pickup_month'] = train['pickup_datetime'].dt.month\n",
    "train['pickup_date'] = train['pickup_datetime'].dt.day\n",
    "train['pickup_hour'] = train['pickup_datetime'].dt.hour\n",
    "train['pickup_Dayofweek'] = train['pickup_datetime'].dt.dayofweek\n",
    "train['pickup_minute'] = train['pickup_datetime'].dt.minute"
   ]
  },
  {
   "cell_type": "code",
   "execution_count": 270,
   "metadata": {},
   "outputs": [
    {
     "data": {
      "text/html": [
       "<div>\n",
       "<style scoped>\n",
       "    .dataframe tbody tr th:only-of-type {\n",
       "        vertical-align: middle;\n",
       "    }\n",
       "\n",
       "    .dataframe tbody tr th {\n",
       "        vertical-align: top;\n",
       "    }\n",
       "\n",
       "    .dataframe thead th {\n",
       "        text-align: right;\n",
       "    }\n",
       "</style>\n",
       "<table border=\"1\" class=\"dataframe\">\n",
       "  <thead>\n",
       "    <tr style=\"text-align: right;\">\n",
       "      <th></th>\n",
       "      <th>fare_amount</th>\n",
       "      <th>pickup_datetime</th>\n",
       "      <th>pickup_longitude</th>\n",
       "      <th>pickup_latitude</th>\n",
       "      <th>dropoff_longitude</th>\n",
       "      <th>dropoff_latitude</th>\n",
       "      <th>passenger_count</th>\n",
       "      <th>pickup_year</th>\n",
       "      <th>pickup_month</th>\n",
       "      <th>pickup_date</th>\n",
       "      <th>pickup_hour</th>\n",
       "      <th>pickup_Dayofweek</th>\n",
       "      <th>pickup_minute</th>\n",
       "    </tr>\n",
       "  </thead>\n",
       "  <tbody>\n",
       "    <tr>\n",
       "      <th>0</th>\n",
       "      <td>4.5</td>\n",
       "      <td>2009-06-15 17:26:21+00:00</td>\n",
       "      <td>-73.844311</td>\n",
       "      <td>40.721319</td>\n",
       "      <td>-73.841610</td>\n",
       "      <td>40.712278</td>\n",
       "      <td>1.0</td>\n",
       "      <td>2009</td>\n",
       "      <td>6</td>\n",
       "      <td>15</td>\n",
       "      <td>17</td>\n",
       "      <td>0</td>\n",
       "      <td>26</td>\n",
       "    </tr>\n",
       "    <tr>\n",
       "      <th>1</th>\n",
       "      <td>16.9</td>\n",
       "      <td>2010-01-05 16:52:16+00:00</td>\n",
       "      <td>-74.016048</td>\n",
       "      <td>40.711303</td>\n",
       "      <td>-73.979268</td>\n",
       "      <td>40.782004</td>\n",
       "      <td>1.0</td>\n",
       "      <td>2010</td>\n",
       "      <td>1</td>\n",
       "      <td>5</td>\n",
       "      <td>16</td>\n",
       "      <td>1</td>\n",
       "      <td>52</td>\n",
       "    </tr>\n",
       "    <tr>\n",
       "      <th>2</th>\n",
       "      <td>5.7</td>\n",
       "      <td>2011-08-18 00:35:00+00:00</td>\n",
       "      <td>-73.982738</td>\n",
       "      <td>40.761270</td>\n",
       "      <td>-73.991242</td>\n",
       "      <td>40.750562</td>\n",
       "      <td>2.0</td>\n",
       "      <td>2011</td>\n",
       "      <td>8</td>\n",
       "      <td>18</td>\n",
       "      <td>0</td>\n",
       "      <td>3</td>\n",
       "      <td>35</td>\n",
       "    </tr>\n",
       "    <tr>\n",
       "      <th>3</th>\n",
       "      <td>7.7</td>\n",
       "      <td>2012-04-21 04:30:42+00:00</td>\n",
       "      <td>-73.987130</td>\n",
       "      <td>40.733143</td>\n",
       "      <td>-73.991567</td>\n",
       "      <td>40.758092</td>\n",
       "      <td>1.0</td>\n",
       "      <td>2012</td>\n",
       "      <td>4</td>\n",
       "      <td>21</td>\n",
       "      <td>4</td>\n",
       "      <td>5</td>\n",
       "      <td>30</td>\n",
       "    </tr>\n",
       "    <tr>\n",
       "      <th>4</th>\n",
       "      <td>5.3</td>\n",
       "      <td>2010-03-09 07:51:00+00:00</td>\n",
       "      <td>-73.968095</td>\n",
       "      <td>40.768008</td>\n",
       "      <td>-73.956655</td>\n",
       "      <td>40.783762</td>\n",
       "      <td>1.0</td>\n",
       "      <td>2010</td>\n",
       "      <td>3</td>\n",
       "      <td>9</td>\n",
       "      <td>7</td>\n",
       "      <td>1</td>\n",
       "      <td>51</td>\n",
       "    </tr>\n",
       "    <tr>\n",
       "      <th>...</th>\n",
       "      <td>...</td>\n",
       "      <td>...</td>\n",
       "      <td>...</td>\n",
       "      <td>...</td>\n",
       "      <td>...</td>\n",
       "      <td>...</td>\n",
       "      <td>...</td>\n",
       "      <td>...</td>\n",
       "      <td>...</td>\n",
       "      <td>...</td>\n",
       "      <td>...</td>\n",
       "      <td>...</td>\n",
       "      <td>...</td>\n",
       "    </tr>\n",
       "    <tr>\n",
       "      <th>16061</th>\n",
       "      <td>10.9</td>\n",
       "      <td>2009-05-20 18:56:42+00:00</td>\n",
       "      <td>-73.994191</td>\n",
       "      <td>40.751138</td>\n",
       "      <td>-73.962769</td>\n",
       "      <td>40.769719</td>\n",
       "      <td>1.0</td>\n",
       "      <td>2009</td>\n",
       "      <td>5</td>\n",
       "      <td>20</td>\n",
       "      <td>18</td>\n",
       "      <td>2</td>\n",
       "      <td>56</td>\n",
       "    </tr>\n",
       "    <tr>\n",
       "      <th>16062</th>\n",
       "      <td>6.5</td>\n",
       "      <td>2014-12-12 07:41:00+00:00</td>\n",
       "      <td>-74.008820</td>\n",
       "      <td>40.718757</td>\n",
       "      <td>-73.998865</td>\n",
       "      <td>40.719987</td>\n",
       "      <td>1.0</td>\n",
       "      <td>2014</td>\n",
       "      <td>12</td>\n",
       "      <td>12</td>\n",
       "      <td>7</td>\n",
       "      <td>4</td>\n",
       "      <td>41</td>\n",
       "    </tr>\n",
       "    <tr>\n",
       "      <th>16063</th>\n",
       "      <td>16.1</td>\n",
       "      <td>2009-07-13 07:58:00+00:00</td>\n",
       "      <td>-73.981310</td>\n",
       "      <td>40.781695</td>\n",
       "      <td>-74.014392</td>\n",
       "      <td>40.715527</td>\n",
       "      <td>2.0</td>\n",
       "      <td>2009</td>\n",
       "      <td>7</td>\n",
       "      <td>13</td>\n",
       "      <td>7</td>\n",
       "      <td>0</td>\n",
       "      <td>58</td>\n",
       "    </tr>\n",
       "    <tr>\n",
       "      <th>16064</th>\n",
       "      <td>8.5</td>\n",
       "      <td>2009-11-11 11:19:07+00:00</td>\n",
       "      <td>-73.972507</td>\n",
       "      <td>40.753417</td>\n",
       "      <td>-73.979577</td>\n",
       "      <td>40.765495</td>\n",
       "      <td>1.0</td>\n",
       "      <td>2009</td>\n",
       "      <td>11</td>\n",
       "      <td>11</td>\n",
       "      <td>11</td>\n",
       "      <td>2</td>\n",
       "      <td>19</td>\n",
       "    </tr>\n",
       "    <tr>\n",
       "      <th>16065</th>\n",
       "      <td>8.1</td>\n",
       "      <td>2010-05-11 23:53:00+00:00</td>\n",
       "      <td>-73.957027</td>\n",
       "      <td>40.765945</td>\n",
       "      <td>-73.981983</td>\n",
       "      <td>40.779560</td>\n",
       "      <td>1.0</td>\n",
       "      <td>2010</td>\n",
       "      <td>5</td>\n",
       "      <td>11</td>\n",
       "      <td>23</td>\n",
       "      <td>1</td>\n",
       "      <td>53</td>\n",
       "    </tr>\n",
       "  </tbody>\n",
       "</table>\n",
       "<p>15570 rows × 13 columns</p>\n",
       "</div>"
      ],
      "text/plain": [
       "       fare_amount           pickup_datetime  pickup_longitude  \\\n",
       "0              4.5 2009-06-15 17:26:21+00:00        -73.844311   \n",
       "1             16.9 2010-01-05 16:52:16+00:00        -74.016048   \n",
       "2              5.7 2011-08-18 00:35:00+00:00        -73.982738   \n",
       "3              7.7 2012-04-21 04:30:42+00:00        -73.987130   \n",
       "4              5.3 2010-03-09 07:51:00+00:00        -73.968095   \n",
       "...            ...                       ...               ...   \n",
       "16061         10.9 2009-05-20 18:56:42+00:00        -73.994191   \n",
       "16062          6.5 2014-12-12 07:41:00+00:00        -74.008820   \n",
       "16063         16.1 2009-07-13 07:58:00+00:00        -73.981310   \n",
       "16064          8.5 2009-11-11 11:19:07+00:00        -73.972507   \n",
       "16065          8.1 2010-05-11 23:53:00+00:00        -73.957027   \n",
       "\n",
       "       pickup_latitude  dropoff_longitude  dropoff_latitude  passenger_count  \\\n",
       "0            40.721319         -73.841610         40.712278              1.0   \n",
       "1            40.711303         -73.979268         40.782004              1.0   \n",
       "2            40.761270         -73.991242         40.750562              2.0   \n",
       "3            40.733143         -73.991567         40.758092              1.0   \n",
       "4            40.768008         -73.956655         40.783762              1.0   \n",
       "...                ...                ...               ...              ...   \n",
       "16061        40.751138         -73.962769         40.769719              1.0   \n",
       "16062        40.718757         -73.998865         40.719987              1.0   \n",
       "16063        40.781695         -74.014392         40.715527              2.0   \n",
       "16064        40.753417         -73.979577         40.765495              1.0   \n",
       "16065        40.765945         -73.981983         40.779560              1.0   \n",
       "\n",
       "       pickup_year  pickup_month  pickup_date  pickup_hour  pickup_Dayofweek  \\\n",
       "0             2009             6           15           17                 0   \n",
       "1             2010             1            5           16                 1   \n",
       "2             2011             8           18            0                 3   \n",
       "3             2012             4           21            4                 5   \n",
       "4             2010             3            9            7                 1   \n",
       "...            ...           ...          ...          ...               ...   \n",
       "16061         2009             5           20           18                 2   \n",
       "16062         2014            12           12            7                 4   \n",
       "16063         2009             7           13            7                 0   \n",
       "16064         2009            11           11           11                 2   \n",
       "16065         2010             5           11           23                 1   \n",
       "\n",
       "       pickup_minute  \n",
       "0                 26  \n",
       "1                 52  \n",
       "2                 35  \n",
       "3                 30  \n",
       "4                 51  \n",
       "...              ...  \n",
       "16061             56  \n",
       "16062             41  \n",
       "16063             58  \n",
       "16064             19  \n",
       "16065             53  \n",
       "\n",
       "[15570 rows x 13 columns]"
      ]
     },
     "execution_count": 270,
     "metadata": {},
     "output_type": "execute_result"
    }
   ],
   "source": [
    "train"
   ]
  },
  {
   "cell_type": "code",
   "execution_count": 272,
   "metadata": {},
   "outputs": [
    {
     "data": {
      "text/html": [
       "<div>\n",
       "<style scoped>\n",
       "    .dataframe tbody tr th:only-of-type {\n",
       "        vertical-align: middle;\n",
       "    }\n",
       "\n",
       "    .dataframe tbody tr th {\n",
       "        vertical-align: top;\n",
       "    }\n",
       "\n",
       "    .dataframe thead th {\n",
       "        text-align: right;\n",
       "    }\n",
       "</style>\n",
       "<table border=\"1\" class=\"dataframe\">\n",
       "  <thead>\n",
       "    <tr style=\"text-align: right;\">\n",
       "      <th></th>\n",
       "      <th>pickup_datetime</th>\n",
       "      <th>pickup_longitude</th>\n",
       "      <th>pickup_latitude</th>\n",
       "      <th>dropoff_longitude</th>\n",
       "      <th>dropoff_latitude</th>\n",
       "      <th>passenger_count</th>\n",
       "    </tr>\n",
       "  </thead>\n",
       "  <tbody>\n",
       "    <tr>\n",
       "      <th>0</th>\n",
       "      <td>2015-01-27 13:08:24 UTC</td>\n",
       "      <td>-73.973320</td>\n",
       "      <td>40.763805</td>\n",
       "      <td>-73.981430</td>\n",
       "      <td>40.743835</td>\n",
       "      <td>1.0</td>\n",
       "    </tr>\n",
       "    <tr>\n",
       "      <th>1</th>\n",
       "      <td>2015-01-27 13:08:24 UTC</td>\n",
       "      <td>-73.986862</td>\n",
       "      <td>40.719383</td>\n",
       "      <td>-73.998886</td>\n",
       "      <td>40.739201</td>\n",
       "      <td>1.0</td>\n",
       "    </tr>\n",
       "    <tr>\n",
       "      <th>2</th>\n",
       "      <td>2011-10-08 11:53:44 UTC</td>\n",
       "      <td>-73.982524</td>\n",
       "      <td>40.751260</td>\n",
       "      <td>-73.979654</td>\n",
       "      <td>40.746139</td>\n",
       "      <td>1.0</td>\n",
       "    </tr>\n",
       "    <tr>\n",
       "      <th>3</th>\n",
       "      <td>2012-12-01 21:12:12 UTC</td>\n",
       "      <td>-73.981160</td>\n",
       "      <td>40.767807</td>\n",
       "      <td>-73.990448</td>\n",
       "      <td>40.751635</td>\n",
       "      <td>1.0</td>\n",
       "    </tr>\n",
       "    <tr>\n",
       "      <th>4</th>\n",
       "      <td>2012-12-01 21:12:12 UTC</td>\n",
       "      <td>-73.966046</td>\n",
       "      <td>40.789775</td>\n",
       "      <td>-73.988565</td>\n",
       "      <td>40.744427</td>\n",
       "      <td>1.0</td>\n",
       "    </tr>\n",
       "  </tbody>\n",
       "</table>\n",
       "</div>"
      ],
      "text/plain": [
       "           pickup_datetime  pickup_longitude  pickup_latitude  \\\n",
       "0  2015-01-27 13:08:24 UTC        -73.973320        40.763805   \n",
       "1  2015-01-27 13:08:24 UTC        -73.986862        40.719383   \n",
       "2  2011-10-08 11:53:44 UTC        -73.982524        40.751260   \n",
       "3  2012-12-01 21:12:12 UTC        -73.981160        40.767807   \n",
       "4  2012-12-01 21:12:12 UTC        -73.966046        40.789775   \n",
       "\n",
       "   dropoff_longitude  dropoff_latitude  passenger_count  \n",
       "0         -73.981430         40.743835              1.0  \n",
       "1         -73.998886         40.739201              1.0  \n",
       "2         -73.979654         40.746139              1.0  \n",
       "3         -73.990448         40.751635              1.0  \n",
       "4         -73.988565         40.744427              1.0  "
      ]
     },
     "execution_count": 272,
     "metadata": {},
     "output_type": "execute_result"
    }
   ],
   "source": [
    "test.head()"
   ]
  },
  {
   "cell_type": "code",
   "execution_count": 273,
   "metadata": {},
   "outputs": [],
   "source": [
    "test['pickup_datetime'] = pd.to_datetime(test['pickup_datetime'],errors='coerce')"
   ]
  },
  {
   "cell_type": "code",
   "execution_count": 274,
   "metadata": {},
   "outputs": [],
   "source": [
    "test['pickup_year'] = test['pickup_datetime'].dt.year\n",
    "test['pickup_month'] = test['pickup_datetime'].dt.month\n",
    "test['pickup_date'] = test['pickup_datetime'].dt.day\n",
    "test['pickup_hour'] = test['pickup_datetime'].dt.hour\n",
    "test['pickup_Dayofweek'] = test['pickup_datetime'].dt.dayofweek\n",
    "test['pickup_minute'] = test['pickup_datetime'].dt.minute"
   ]
  },
  {
   "cell_type": "code",
   "execution_count": 275,
   "metadata": {},
   "outputs": [],
   "source": [
    "#calculate the distance travelled by cab from the pickup latutude & longitude and dropoff latutude & longitude\n"
   ]
  },
  {
   "cell_type": "code",
   "execution_count": 276,
   "metadata": {},
   "outputs": [],
   "source": [
    "#Does the pickup_datetime (Pickup Date & Time) affect the fare_amount (fare)?"
   ]
  },
  {
   "cell_type": "code",
   "execution_count": 277,
   "metadata": {},
   "outputs": [
    {
     "data": {
      "text/html": [
       "<div>\n",
       "<style scoped>\n",
       "    .dataframe tbody tr th:only-of-type {\n",
       "        vertical-align: middle;\n",
       "    }\n",
       "\n",
       "    .dataframe tbody tr th {\n",
       "        vertical-align: top;\n",
       "    }\n",
       "\n",
       "    .dataframe thead th {\n",
       "        text-align: right;\n",
       "    }\n",
       "</style>\n",
       "<table border=\"1\" class=\"dataframe\">\n",
       "  <thead>\n",
       "    <tr style=\"text-align: right;\">\n",
       "      <th></th>\n",
       "      <th>fare_amount</th>\n",
       "      <th>pickup_datetime</th>\n",
       "      <th>pickup_longitude</th>\n",
       "      <th>pickup_latitude</th>\n",
       "      <th>dropoff_longitude</th>\n",
       "      <th>dropoff_latitude</th>\n",
       "      <th>passenger_count</th>\n",
       "      <th>pickup_year</th>\n",
       "      <th>pickup_month</th>\n",
       "      <th>pickup_date</th>\n",
       "      <th>pickup_hour</th>\n",
       "      <th>pickup_Dayofweek</th>\n",
       "      <th>pickup_minute</th>\n",
       "    </tr>\n",
       "  </thead>\n",
       "  <tbody>\n",
       "    <tr>\n",
       "      <th>0</th>\n",
       "      <td>4.5</td>\n",
       "      <td>2009-06-15 17:26:21+00:00</td>\n",
       "      <td>-73.844311</td>\n",
       "      <td>40.721319</td>\n",
       "      <td>-73.841610</td>\n",
       "      <td>40.712278</td>\n",
       "      <td>1.0</td>\n",
       "      <td>2009</td>\n",
       "      <td>6</td>\n",
       "      <td>15</td>\n",
       "      <td>17</td>\n",
       "      <td>0</td>\n",
       "      <td>26</td>\n",
       "    </tr>\n",
       "    <tr>\n",
       "      <th>1</th>\n",
       "      <td>16.9</td>\n",
       "      <td>2010-01-05 16:52:16+00:00</td>\n",
       "      <td>-74.016048</td>\n",
       "      <td>40.711303</td>\n",
       "      <td>-73.979268</td>\n",
       "      <td>40.782004</td>\n",
       "      <td>1.0</td>\n",
       "      <td>2010</td>\n",
       "      <td>1</td>\n",
       "      <td>5</td>\n",
       "      <td>16</td>\n",
       "      <td>1</td>\n",
       "      <td>52</td>\n",
       "    </tr>\n",
       "    <tr>\n",
       "      <th>2</th>\n",
       "      <td>5.7</td>\n",
       "      <td>2011-08-18 00:35:00+00:00</td>\n",
       "      <td>-73.982738</td>\n",
       "      <td>40.761270</td>\n",
       "      <td>-73.991242</td>\n",
       "      <td>40.750562</td>\n",
       "      <td>2.0</td>\n",
       "      <td>2011</td>\n",
       "      <td>8</td>\n",
       "      <td>18</td>\n",
       "      <td>0</td>\n",
       "      <td>3</td>\n",
       "      <td>35</td>\n",
       "    </tr>\n",
       "    <tr>\n",
       "      <th>3</th>\n",
       "      <td>7.7</td>\n",
       "      <td>2012-04-21 04:30:42+00:00</td>\n",
       "      <td>-73.987130</td>\n",
       "      <td>40.733143</td>\n",
       "      <td>-73.991567</td>\n",
       "      <td>40.758092</td>\n",
       "      <td>1.0</td>\n",
       "      <td>2012</td>\n",
       "      <td>4</td>\n",
       "      <td>21</td>\n",
       "      <td>4</td>\n",
       "      <td>5</td>\n",
       "      <td>30</td>\n",
       "    </tr>\n",
       "    <tr>\n",
       "      <th>4</th>\n",
       "      <td>5.3</td>\n",
       "      <td>2010-03-09 07:51:00+00:00</td>\n",
       "      <td>-73.968095</td>\n",
       "      <td>40.768008</td>\n",
       "      <td>-73.956655</td>\n",
       "      <td>40.783762</td>\n",
       "      <td>1.0</td>\n",
       "      <td>2010</td>\n",
       "      <td>3</td>\n",
       "      <td>9</td>\n",
       "      <td>7</td>\n",
       "      <td>1</td>\n",
       "      <td>51</td>\n",
       "    </tr>\n",
       "    <tr>\n",
       "      <th>...</th>\n",
       "      <td>...</td>\n",
       "      <td>...</td>\n",
       "      <td>...</td>\n",
       "      <td>...</td>\n",
       "      <td>...</td>\n",
       "      <td>...</td>\n",
       "      <td>...</td>\n",
       "      <td>...</td>\n",
       "      <td>...</td>\n",
       "      <td>...</td>\n",
       "      <td>...</td>\n",
       "      <td>...</td>\n",
       "      <td>...</td>\n",
       "    </tr>\n",
       "    <tr>\n",
       "      <th>16061</th>\n",
       "      <td>10.9</td>\n",
       "      <td>2009-05-20 18:56:42+00:00</td>\n",
       "      <td>-73.994191</td>\n",
       "      <td>40.751138</td>\n",
       "      <td>-73.962769</td>\n",
       "      <td>40.769719</td>\n",
       "      <td>1.0</td>\n",
       "      <td>2009</td>\n",
       "      <td>5</td>\n",
       "      <td>20</td>\n",
       "      <td>18</td>\n",
       "      <td>2</td>\n",
       "      <td>56</td>\n",
       "    </tr>\n",
       "    <tr>\n",
       "      <th>16062</th>\n",
       "      <td>6.5</td>\n",
       "      <td>2014-12-12 07:41:00+00:00</td>\n",
       "      <td>-74.008820</td>\n",
       "      <td>40.718757</td>\n",
       "      <td>-73.998865</td>\n",
       "      <td>40.719987</td>\n",
       "      <td>1.0</td>\n",
       "      <td>2014</td>\n",
       "      <td>12</td>\n",
       "      <td>12</td>\n",
       "      <td>7</td>\n",
       "      <td>4</td>\n",
       "      <td>41</td>\n",
       "    </tr>\n",
       "    <tr>\n",
       "      <th>16063</th>\n",
       "      <td>16.1</td>\n",
       "      <td>2009-07-13 07:58:00+00:00</td>\n",
       "      <td>-73.981310</td>\n",
       "      <td>40.781695</td>\n",
       "      <td>-74.014392</td>\n",
       "      <td>40.715527</td>\n",
       "      <td>2.0</td>\n",
       "      <td>2009</td>\n",
       "      <td>7</td>\n",
       "      <td>13</td>\n",
       "      <td>7</td>\n",
       "      <td>0</td>\n",
       "      <td>58</td>\n",
       "    </tr>\n",
       "    <tr>\n",
       "      <th>16064</th>\n",
       "      <td>8.5</td>\n",
       "      <td>2009-11-11 11:19:07+00:00</td>\n",
       "      <td>-73.972507</td>\n",
       "      <td>40.753417</td>\n",
       "      <td>-73.979577</td>\n",
       "      <td>40.765495</td>\n",
       "      <td>1.0</td>\n",
       "      <td>2009</td>\n",
       "      <td>11</td>\n",
       "      <td>11</td>\n",
       "      <td>11</td>\n",
       "      <td>2</td>\n",
       "      <td>19</td>\n",
       "    </tr>\n",
       "    <tr>\n",
       "      <th>16065</th>\n",
       "      <td>8.1</td>\n",
       "      <td>2010-05-11 23:53:00+00:00</td>\n",
       "      <td>-73.957027</td>\n",
       "      <td>40.765945</td>\n",
       "      <td>-73.981983</td>\n",
       "      <td>40.779560</td>\n",
       "      <td>1.0</td>\n",
       "      <td>2010</td>\n",
       "      <td>5</td>\n",
       "      <td>11</td>\n",
       "      <td>23</td>\n",
       "      <td>1</td>\n",
       "      <td>53</td>\n",
       "    </tr>\n",
       "  </tbody>\n",
       "</table>\n",
       "<p>15570 rows × 13 columns</p>\n",
       "</div>"
      ],
      "text/plain": [
       "       fare_amount           pickup_datetime  pickup_longitude  \\\n",
       "0              4.5 2009-06-15 17:26:21+00:00        -73.844311   \n",
       "1             16.9 2010-01-05 16:52:16+00:00        -74.016048   \n",
       "2              5.7 2011-08-18 00:35:00+00:00        -73.982738   \n",
       "3              7.7 2012-04-21 04:30:42+00:00        -73.987130   \n",
       "4              5.3 2010-03-09 07:51:00+00:00        -73.968095   \n",
       "...            ...                       ...               ...   \n",
       "16061         10.9 2009-05-20 18:56:42+00:00        -73.994191   \n",
       "16062          6.5 2014-12-12 07:41:00+00:00        -74.008820   \n",
       "16063         16.1 2009-07-13 07:58:00+00:00        -73.981310   \n",
       "16064          8.5 2009-11-11 11:19:07+00:00        -73.972507   \n",
       "16065          8.1 2010-05-11 23:53:00+00:00        -73.957027   \n",
       "\n",
       "       pickup_latitude  dropoff_longitude  dropoff_latitude  passenger_count  \\\n",
       "0            40.721319         -73.841610         40.712278              1.0   \n",
       "1            40.711303         -73.979268         40.782004              1.0   \n",
       "2            40.761270         -73.991242         40.750562              2.0   \n",
       "3            40.733143         -73.991567         40.758092              1.0   \n",
       "4            40.768008         -73.956655         40.783762              1.0   \n",
       "...                ...                ...               ...              ...   \n",
       "16061        40.751138         -73.962769         40.769719              1.0   \n",
       "16062        40.718757         -73.998865         40.719987              1.0   \n",
       "16063        40.781695         -74.014392         40.715527              2.0   \n",
       "16064        40.753417         -73.979577         40.765495              1.0   \n",
       "16065        40.765945         -73.981983         40.779560              1.0   \n",
       "\n",
       "       pickup_year  pickup_month  pickup_date  pickup_hour  pickup_Dayofweek  \\\n",
       "0             2009             6           15           17                 0   \n",
       "1             2010             1            5           16                 1   \n",
       "2             2011             8           18            0                 3   \n",
       "3             2012             4           21            4                 5   \n",
       "4             2010             3            9            7                 1   \n",
       "...            ...           ...          ...          ...               ...   \n",
       "16061         2009             5           20           18                 2   \n",
       "16062         2014            12           12            7                 4   \n",
       "16063         2009             7           13            7                 0   \n",
       "16064         2009            11           11           11                 2   \n",
       "16065         2010             5           11           23                 1   \n",
       "\n",
       "       pickup_minute  \n",
       "0                 26  \n",
       "1                 52  \n",
       "2                 35  \n",
       "3                 30  \n",
       "4                 51  \n",
       "...              ...  \n",
       "16061             56  \n",
       "16062             41  \n",
       "16063             58  \n",
       "16064             19  \n",
       "16065             53  \n",
       "\n",
       "[15570 rows x 13 columns]"
      ]
     },
     "execution_count": 277,
     "metadata": {},
     "output_type": "execute_result"
    }
   ],
   "source": [
    "train"
   ]
  },
  {
   "cell_type": "code",
   "execution_count": 278,
   "metadata": {},
   "outputs": [
    {
     "data": {
      "text/plain": [
       "Text(0, 0.5, 'Fare')"
      ]
     },
     "execution_count": 278,
     "metadata": {},
     "output_type": "execute_result"
    },
    {
     "data": {
      "image/png": "[encoded data removed]",
      "text/plain": [
       "<Figure size 1080x504 with 1 Axes>"
      ]
     },
     "metadata": {
      "needs_background": "light"
     },
     "output_type": "display_data"
    }
   ],
   "source": [
    "plt.figure(figsize = (15,7))\n",
    "plt.scatter(x = train['pickup_date'], y = train['fare_amount'], s=1.5)\n",
    "plt.xlabel('Date')#does the pickupdate of month affect the fare_amount\n",
    "plt.ylabel('Fare')#the fare_amount throughout the month is seem to be uniform, with maximum fare received on th 3rd"
   ]
  },
  {
   "cell_type": "code",
   "execution_count": 279,
   "metadata": {},
   "outputs": [
    {
     "data": {
      "text/plain": [
       "Text(0, 0.5, 'Frequency')"
      ]
     },
     "execution_count": 279,
     "metadata": {},
     "output_type": "execute_result"
    },
    {
     "data": {
      "image/png": "[encoded data removed]",
      "text/plain": [
       "<Figure size 1080x504 with 1 Axes>"
      ]
     },
     "metadata": {
      "needs_background": "light"
     },
     "output_type": "display_data"
    }
   ],
   "source": [
    "#does pickuptime of the day affect the fare_amount?\n",
    "plt.figure(figsize = (15,7))\n",
    "plt.hist(train['pickup_hour'], bins = 100)\n",
    "plt.xlabel('Hour of the Day')\n",
    "plt.ylabel('Frequency')#The time of the day plays an important role. The frequency of cab rides seem to be lowest at 5AM and the highest at 6PM."
   ]
  },
  {
   "cell_type": "code",
   "execution_count": 280,
   "metadata": {},
   "outputs": [
    {
     "data": {
      "text/plain": [
       "Text(0, 0.5, 'Fare')"
      ]
     },
     "execution_count": 280,
     "metadata": {},
     "output_type": "execute_result"
    },
    {
     "data": {
      "image/png": "[encoded data removed]",
      "text/plain": [
       "<Figure size 1080x504 with 1 Axes>"
      ]
     },
     "metadata": {
      "needs_background": "light"
     },
     "output_type": "display_data"
    }
   ],
   "source": [
    "plt.figure(figsize = (15,7))\n",
    "plt.scatter(x = train['pickup_hour'], y = train['fare_amount'], s =1.5)\n",
    "plt.xlabel('Hour of the day')\n",
    "plt.ylabel('Fare')#The fares, seem to be the high between 5AM to 10AM and 1PM to 4PM. Maybe people who leave early to avoid traffic and cover large distance"
   ]
  },
  {
   "cell_type": "code",
   "execution_count": 281,
   "metadata": {},
   "outputs": [],
   "source": [
    "#Does the distance travelled affect the fare_amount (fare)?\n"
   ]
  },
  {
   "cell_type": "code",
   "execution_count": 282,
   "metadata": {},
   "outputs": [],
   "source": [
    "def harvesine_distance(lat1, long1, lat2, long2):\n",
    "    data = [train, test]\n",
    "    for i in data: \n",
    "        R = 6371 #radius of earth in kilometers\n",
    "        #R = 3959 #radius of earth in miles\n",
    "        phi1 = np.radians(i[lat1])\n",
    "        phi2 = np.radians(i[lat2])\n",
    "        \n",
    "        delta_phi = np.radians(i[lat2] - i[lat1])\n",
    "        delta_lambda = np.radians(i[long2]-i[long1])\n",
    "        \n",
    "        #a = sin²((φB - φA)/2) + cos φA . cos φB . sin²((λB - λA)/2)\n",
    "        a = np.sin(delta_phi/2.0)**2 + np.cos(phi1) * np.cos(phi2)* np.sin(delta_lambda/2.0)**2\n",
    "        \n",
    "        #c = 2 * arctan2( √a, √(1−a) )\n",
    "        c = 2 * np.arctan2(np.sqrt(a), np.sqrt(1-a))\n",
    "        \n",
    "        #d = R * c\n",
    "        d = (R * c) #distance in kilometers\n",
    "        i['H_Distance'] = d\n",
    "    return d"
   ]
  },
  {
   "cell_type": "code",
   "execution_count": 283,
   "metadata": {},
   "outputs": [],
   "source": [
    "#haversine(θ) = sin²(θ/2)\n",
    "\n",
    "#Eventually, the formual boils down to the following where φ is latitude, λ is longitude, R is earth’s radius (mean radius = 6,371km) to include latitude and longitude coordinates (A and B in this case).\n",
    "\n",
    "#a = sin²((φB - φA)/2) + cos φA . cos φB . sin²((λB - λA)/2)\n",
    "\n",
    "#c = 2 * atan2( √a, √(1−a) )\n",
    "\n",
    "#d = R ⋅ c\n",
    "\n",
    "#d = Haversine distance"
   ]
  },
  {
   "cell_type": "code",
   "execution_count": 284,
   "metadata": {},
   "outputs": [
    {
     "data": {
      "text/plain": [
       "0        2.323259\n",
       "1        2.425353\n",
       "2        0.618628\n",
       "3        1.961033\n",
       "4        5.387301\n",
       "          ...    \n",
       "9909     2.124874\n",
       "9910     3.270969\n",
       "9911    19.183942\n",
       "9912     8.343486\n",
       "9913     1.180825\n",
       "Length: 9914, dtype: float64"
      ]
     },
     "execution_count": 284,
     "metadata": {},
     "output_type": "execute_result"
    }
   ],
   "source": [
    "harvesine_distance('pickup_latitude', 'pickup_longitude', 'dropoff_latitude', 'dropoff_longitude')"
   ]
  },
  {
   "cell_type": "code",
   "execution_count": 285,
   "metadata": {},
   "outputs": [
    {
     "data": {
      "text/plain": [
       "0     1.030764\n",
       "1     8.450134\n",
       "2     1.389525\n",
       "3     2.799270\n",
       "4     1.999157\n",
       "5     3.787239\n",
       "6     1.555807\n",
       "7     4.155444\n",
       "9     2.849627\n",
       "10    1.374577\n",
       "Name: H_Distance, dtype: float64"
      ]
     },
     "execution_count": 285,
     "metadata": {},
     "output_type": "execute_result"
    }
   ],
   "source": [
    "train['H_Distance'].head(10)"
   ]
  },
  {
   "cell_type": "code",
   "execution_count": 286,
   "metadata": {},
   "outputs": [
    {
     "data": {
      "text/html": [
       "<div>\n",
       "<style scoped>\n",
       "    .dataframe tbody tr th:only-of-type {\n",
       "        vertical-align: middle;\n",
       "    }\n",
       "\n",
       "    .dataframe tbody tr th {\n",
       "        vertical-align: top;\n",
       "    }\n",
       "\n",
       "    .dataframe thead th {\n",
       "        text-align: right;\n",
       "    }\n",
       "</style>\n",
       "<table border=\"1\" class=\"dataframe\">\n",
       "  <thead>\n",
       "    <tr style=\"text-align: right;\">\n",
       "      <th></th>\n",
       "      <th>fare_amount</th>\n",
       "      <th>pickup_datetime</th>\n",
       "      <th>pickup_longitude</th>\n",
       "      <th>pickup_latitude</th>\n",
       "      <th>dropoff_longitude</th>\n",
       "      <th>dropoff_latitude</th>\n",
       "      <th>passenger_count</th>\n",
       "      <th>pickup_year</th>\n",
       "      <th>pickup_month</th>\n",
       "      <th>pickup_date</th>\n",
       "      <th>pickup_hour</th>\n",
       "      <th>pickup_Dayofweek</th>\n",
       "      <th>pickup_minute</th>\n",
       "      <th>H_Distance</th>\n",
       "    </tr>\n",
       "  </thead>\n",
       "  <tbody>\n",
       "    <tr>\n",
       "      <th>0</th>\n",
       "      <td>4.5</td>\n",
       "      <td>2009-06-15 17:26:21+00:00</td>\n",
       "      <td>-73.844311</td>\n",
       "      <td>40.721319</td>\n",
       "      <td>-73.841610</td>\n",
       "      <td>40.712278</td>\n",
       "      <td>1.0</td>\n",
       "      <td>2009</td>\n",
       "      <td>6</td>\n",
       "      <td>15</td>\n",
       "      <td>17</td>\n",
       "      <td>0</td>\n",
       "      <td>26</td>\n",
       "      <td>1.030764</td>\n",
       "    </tr>\n",
       "    <tr>\n",
       "      <th>1</th>\n",
       "      <td>16.9</td>\n",
       "      <td>2010-01-05 16:52:16+00:00</td>\n",
       "      <td>-74.016048</td>\n",
       "      <td>40.711303</td>\n",
       "      <td>-73.979268</td>\n",
       "      <td>40.782004</td>\n",
       "      <td>1.0</td>\n",
       "      <td>2010</td>\n",
       "      <td>1</td>\n",
       "      <td>5</td>\n",
       "      <td>16</td>\n",
       "      <td>1</td>\n",
       "      <td>52</td>\n",
       "      <td>8.450134</td>\n",
       "    </tr>\n",
       "    <tr>\n",
       "      <th>2</th>\n",
       "      <td>5.7</td>\n",
       "      <td>2011-08-18 00:35:00+00:00</td>\n",
       "      <td>-73.982738</td>\n",
       "      <td>40.761270</td>\n",
       "      <td>-73.991242</td>\n",
       "      <td>40.750562</td>\n",
       "      <td>2.0</td>\n",
       "      <td>2011</td>\n",
       "      <td>8</td>\n",
       "      <td>18</td>\n",
       "      <td>0</td>\n",
       "      <td>3</td>\n",
       "      <td>35</td>\n",
       "      <td>1.389525</td>\n",
       "    </tr>\n",
       "    <tr>\n",
       "      <th>3</th>\n",
       "      <td>7.7</td>\n",
       "      <td>2012-04-21 04:30:42+00:00</td>\n",
       "      <td>-73.987130</td>\n",
       "      <td>40.733143</td>\n",
       "      <td>-73.991567</td>\n",
       "      <td>40.758092</td>\n",
       "      <td>1.0</td>\n",
       "      <td>2012</td>\n",
       "      <td>4</td>\n",
       "      <td>21</td>\n",
       "      <td>4</td>\n",
       "      <td>5</td>\n",
       "      <td>30</td>\n",
       "      <td>2.799270</td>\n",
       "    </tr>\n",
       "    <tr>\n",
       "      <th>4</th>\n",
       "      <td>5.3</td>\n",
       "      <td>2010-03-09 07:51:00+00:00</td>\n",
       "      <td>-73.968095</td>\n",
       "      <td>40.768008</td>\n",
       "      <td>-73.956655</td>\n",
       "      <td>40.783762</td>\n",
       "      <td>1.0</td>\n",
       "      <td>2010</td>\n",
       "      <td>3</td>\n",
       "      <td>9</td>\n",
       "      <td>7</td>\n",
       "      <td>1</td>\n",
       "      <td>51</td>\n",
       "      <td>1.999157</td>\n",
       "    </tr>\n",
       "    <tr>\n",
       "      <th>...</th>\n",
       "      <td>...</td>\n",
       "      <td>...</td>\n",
       "      <td>...</td>\n",
       "      <td>...</td>\n",
       "      <td>...</td>\n",
       "      <td>...</td>\n",
       "      <td>...</td>\n",
       "      <td>...</td>\n",
       "      <td>...</td>\n",
       "      <td>...</td>\n",
       "      <td>...</td>\n",
       "      <td>...</td>\n",
       "      <td>...</td>\n",
       "      <td>...</td>\n",
       "    </tr>\n",
       "    <tr>\n",
       "      <th>16061</th>\n",
       "      <td>10.9</td>\n",
       "      <td>2009-05-20 18:56:42+00:00</td>\n",
       "      <td>-73.994191</td>\n",
       "      <td>40.751138</td>\n",
       "      <td>-73.962769</td>\n",
       "      <td>40.769719</td>\n",
       "      <td>1.0</td>\n",
       "      <td>2009</td>\n",
       "      <td>5</td>\n",
       "      <td>20</td>\n",
       "      <td>18</td>\n",
       "      <td>2</td>\n",
       "      <td>56</td>\n",
       "      <td>3.357490</td>\n",
       "    </tr>\n",
       "    <tr>\n",
       "      <th>16062</th>\n",
       "      <td>6.5</td>\n",
       "      <td>2014-12-12 07:41:00+00:00</td>\n",
       "      <td>-74.008820</td>\n",
       "      <td>40.718757</td>\n",
       "      <td>-73.998865</td>\n",
       "      <td>40.719987</td>\n",
       "      <td>1.0</td>\n",
       "      <td>2014</td>\n",
       "      <td>12</td>\n",
       "      <td>12</td>\n",
       "      <td>7</td>\n",
       "      <td>4</td>\n",
       "      <td>41</td>\n",
       "      <td>0.850044</td>\n",
       "    </tr>\n",
       "    <tr>\n",
       "      <th>16063</th>\n",
       "      <td>16.1</td>\n",
       "      <td>2009-07-13 07:58:00+00:00</td>\n",
       "      <td>-73.981310</td>\n",
       "      <td>40.781695</td>\n",
       "      <td>-74.014392</td>\n",
       "      <td>40.715527</td>\n",
       "      <td>2.0</td>\n",
       "      <td>2009</td>\n",
       "      <td>7</td>\n",
       "      <td>13</td>\n",
       "      <td>7</td>\n",
       "      <td>0</td>\n",
       "      <td>58</td>\n",
       "      <td>7.867638</td>\n",
       "    </tr>\n",
       "    <tr>\n",
       "      <th>16064</th>\n",
       "      <td>8.5</td>\n",
       "      <td>2009-11-11 11:19:07+00:00</td>\n",
       "      <td>-73.972507</td>\n",
       "      <td>40.753417</td>\n",
       "      <td>-73.979577</td>\n",
       "      <td>40.765495</td>\n",
       "      <td>1.0</td>\n",
       "      <td>2009</td>\n",
       "      <td>11</td>\n",
       "      <td>11</td>\n",
       "      <td>11</td>\n",
       "      <td>2</td>\n",
       "      <td>19</td>\n",
       "      <td>1.469105</td>\n",
       "    </tr>\n",
       "    <tr>\n",
       "      <th>16065</th>\n",
       "      <td>8.1</td>\n",
       "      <td>2010-05-11 23:53:00+00:00</td>\n",
       "      <td>-73.957027</td>\n",
       "      <td>40.765945</td>\n",
       "      <td>-73.981983</td>\n",
       "      <td>40.779560</td>\n",
       "      <td>1.0</td>\n",
       "      <td>2010</td>\n",
       "      <td>5</td>\n",
       "      <td>11</td>\n",
       "      <td>23</td>\n",
       "      <td>1</td>\n",
       "      <td>53</td>\n",
       "      <td>2.590036</td>\n",
       "    </tr>\n",
       "  </tbody>\n",
       "</table>\n",
       "<p>15570 rows × 14 columns</p>\n",
       "</div>"
      ],
      "text/plain": [
       "       fare_amount           pickup_datetime  pickup_longitude  \\\n",
       "0              4.5 2009-06-15 17:26:21+00:00        -73.844311   \n",
       "1             16.9 2010-01-05 16:52:16+00:00        -74.016048   \n",
       "2              5.7 2011-08-18 00:35:00+00:00        -73.982738   \n",
       "3              7.7 2012-04-21 04:30:42+00:00        -73.987130   \n",
       "4              5.3 2010-03-09 07:51:00+00:00        -73.968095   \n",
       "...            ...                       ...               ...   \n",
       "16061         10.9 2009-05-20 18:56:42+00:00        -73.994191   \n",
       "16062          6.5 2014-12-12 07:41:00+00:00        -74.008820   \n",
       "16063         16.1 2009-07-13 07:58:00+00:00        -73.981310   \n",
       "16064          8.5 2009-11-11 11:19:07+00:00        -73.972507   \n",
       "16065          8.1 2010-05-11 23:53:00+00:00        -73.957027   \n",
       "\n",
       "       pickup_latitude  dropoff_longitude  dropoff_latitude  passenger_count  \\\n",
       "0            40.721319         -73.841610         40.712278              1.0   \n",
       "1            40.711303         -73.979268         40.782004              1.0   \n",
       "2            40.761270         -73.991242         40.750562              2.0   \n",
       "3            40.733143         -73.991567         40.758092              1.0   \n",
       "4            40.768008         -73.956655         40.783762              1.0   \n",
       "...                ...                ...               ...              ...   \n",
       "16061        40.751138         -73.962769         40.769719              1.0   \n",
       "16062        40.718757         -73.998865         40.719987              1.0   \n",
       "16063        40.781695         -74.014392         40.715527              2.0   \n",
       "16064        40.753417         -73.979577         40.765495              1.0   \n",
       "16065        40.765945         -73.981983         40.779560              1.0   \n",
       "\n",
       "       pickup_year  pickup_month  pickup_date  pickup_hour  pickup_Dayofweek  \\\n",
       "0             2009             6           15           17                 0   \n",
       "1             2010             1            5           16                 1   \n",
       "2             2011             8           18            0                 3   \n",
       "3             2012             4           21            4                 5   \n",
       "4             2010             3            9            7                 1   \n",
       "...            ...           ...          ...          ...               ...   \n",
       "16061         2009             5           20           18                 2   \n",
       "16062         2014            12           12            7                 4   \n",
       "16063         2009             7           13            7                 0   \n",
       "16064         2009            11           11           11                 2   \n",
       "16065         2010             5           11           23                 1   \n",
       "\n",
       "       pickup_minute  H_Distance  \n",
       "0                 26    1.030764  \n",
       "1                 52    8.450134  \n",
       "2                 35    1.389525  \n",
       "3                 30    2.799270  \n",
       "4                 51    1.999157  \n",
       "...              ...         ...  \n",
       "16061             56    3.357490  \n",
       "16062             41    0.850044  \n",
       "16063             58    7.867638  \n",
       "16064             19    1.469105  \n",
       "16065             53    2.590036  \n",
       "\n",
       "[15570 rows x 14 columns]"
      ]
     },
     "execution_count": 286,
     "metadata": {},
     "output_type": "execute_result"
    }
   ],
   "source": [
    "train"
   ]
  },
  {
   "cell_type": "code",
   "execution_count": 287,
   "metadata": {},
   "outputs": [
    {
     "data": {
      "text/html": [
       "<div>\n",
       "<style scoped>\n",
       "    .dataframe tbody tr th:only-of-type {\n",
       "        vertical-align: middle;\n",
       "    }\n",
       "\n",
       "    .dataframe tbody tr th {\n",
       "        vertical-align: top;\n",
       "    }\n",
       "\n",
       "    .dataframe thead th {\n",
       "        text-align: right;\n",
       "    }\n",
       "</style>\n",
       "<table border=\"1\" class=\"dataframe\">\n",
       "  <thead>\n",
       "    <tr style=\"text-align: right;\">\n",
       "      <th></th>\n",
       "      <th>fare_amount</th>\n",
       "      <th>pickup_datetime</th>\n",
       "      <th>pickup_longitude</th>\n",
       "      <th>pickup_latitude</th>\n",
       "      <th>dropoff_longitude</th>\n",
       "      <th>dropoff_latitude</th>\n",
       "      <th>passenger_count</th>\n",
       "      <th>pickup_year</th>\n",
       "      <th>pickup_month</th>\n",
       "      <th>pickup_date</th>\n",
       "      <th>pickup_hour</th>\n",
       "      <th>pickup_Dayofweek</th>\n",
       "      <th>pickup_minute</th>\n",
       "      <th>H_Distance</th>\n",
       "    </tr>\n",
       "  </thead>\n",
       "  <tbody>\n",
       "    <tr>\n",
       "      <th>10710</th>\n",
       "      <td>3.70</td>\n",
       "      <td>2011-02-11 21:46:09+00:00</td>\n",
       "      <td>-73.955411</td>\n",
       "      <td>39.604164</td>\n",
       "      <td>-73.955647</td>\n",
       "      <td>40.772837</td>\n",
       "      <td>1.0</td>\n",
       "      <td>2011</td>\n",
       "      <td>2</td>\n",
       "      <td>11</td>\n",
       "      <td>21</td>\n",
       "      <td>4</td>\n",
       "      <td>46</td>\n",
       "      <td>129.950482</td>\n",
       "    </tr>\n",
       "    <tr>\n",
       "      <th>14536</th>\n",
       "      <td>4.10</td>\n",
       "      <td>2011-04-03 12:16:46+00:00</td>\n",
       "      <td>-73.982155</td>\n",
       "      <td>40.775187</td>\n",
       "      <td>-73.976399</td>\n",
       "      <td>39.610030</td>\n",
       "      <td>1.0</td>\n",
       "      <td>2011</td>\n",
       "      <td>4</td>\n",
       "      <td>3</td>\n",
       "      <td>12</td>\n",
       "      <td>6</td>\n",
       "      <td>16</td>\n",
       "      <td>129.560455</td>\n",
       "    </tr>\n",
       "    <tr>\n",
       "      <th>11619</th>\n",
       "      <td>11.30</td>\n",
       "      <td>2011-05-27 21:47:44+00:00</td>\n",
       "      <td>-73.945106</td>\n",
       "      <td>39.603178</td>\n",
       "      <td>-73.976636</td>\n",
       "      <td>40.749643</td>\n",
       "      <td>1.0</td>\n",
       "      <td>2011</td>\n",
       "      <td>5</td>\n",
       "      <td>27</td>\n",
       "      <td>21</td>\n",
       "      <td>4</td>\n",
       "      <td>47</td>\n",
       "      <td>127.509261</td>\n",
       "    </tr>\n",
       "    <tr>\n",
       "      <th>12228</th>\n",
       "      <td>16.50</td>\n",
       "      <td>2011-04-26 23:18:56+00:00</td>\n",
       "      <td>-73.993360</td>\n",
       "      <td>40.721749</td>\n",
       "      <td>-73.977370</td>\n",
       "      <td>39.610604</td>\n",
       "      <td>2.0</td>\n",
       "      <td>2011</td>\n",
       "      <td>4</td>\n",
       "      <td>26</td>\n",
       "      <td>23</td>\n",
       "      <td>1</td>\n",
       "      <td>18</td>\n",
       "      <td>123.561157</td>\n",
       "    </tr>\n",
       "    <tr>\n",
       "      <th>5663</th>\n",
       "      <td>49.15</td>\n",
       "      <td>2009-02-25 07:05:05+00:00</td>\n",
       "      <td>-73.137393</td>\n",
       "      <td>41.366138</td>\n",
       "      <td>-74.000940</td>\n",
       "      <td>40.731723</td>\n",
       "      <td>1.0</td>\n",
       "      <td>2009</td>\n",
       "      <td>2</td>\n",
       "      <td>25</td>\n",
       "      <td>7</td>\n",
       "      <td>2</td>\n",
       "      <td>5</td>\n",
       "      <td>101.094619</td>\n",
       "    </tr>\n",
       "    <tr>\n",
       "      <th>...</th>\n",
       "      <td>...</td>\n",
       "      <td>...</td>\n",
       "      <td>...</td>\n",
       "      <td>...</td>\n",
       "      <td>...</td>\n",
       "      <td>...</td>\n",
       "      <td>...</td>\n",
       "      <td>...</td>\n",
       "      <td>...</td>\n",
       "      <td>...</td>\n",
       "      <td>...</td>\n",
       "      <td>...</td>\n",
       "      <td>...</td>\n",
       "      <td>...</td>\n",
       "    </tr>\n",
       "    <tr>\n",
       "      <th>8711</th>\n",
       "      <td>2.50</td>\n",
       "      <td>2013-01-02 09:33:21+00:00</td>\n",
       "      <td>-73.978626</td>\n",
       "      <td>40.744067</td>\n",
       "      <td>-73.978626</td>\n",
       "      <td>40.744067</td>\n",
       "      <td>1.0</td>\n",
       "      <td>2013</td>\n",
       "      <td>1</td>\n",
       "      <td>2</td>\n",
       "      <td>9</td>\n",
       "      <td>2</td>\n",
       "      <td>33</td>\n",
       "      <td>0.000000</td>\n",
       "    </tr>\n",
       "    <tr>\n",
       "      <th>9177</th>\n",
       "      <td>2.50</td>\n",
       "      <td>2010-12-06 11:48:34+00:00</td>\n",
       "      <td>-73.946993</td>\n",
       "      <td>40.744583</td>\n",
       "      <td>-73.946993</td>\n",
       "      <td>40.744583</td>\n",
       "      <td>3.0</td>\n",
       "      <td>2010</td>\n",
       "      <td>12</td>\n",
       "      <td>6</td>\n",
       "      <td>11</td>\n",
       "      <td>0</td>\n",
       "      <td>48</td>\n",
       "      <td>0.000000</td>\n",
       "    </tr>\n",
       "    <tr>\n",
       "      <th>9773</th>\n",
       "      <td>2.50</td>\n",
       "      <td>2013-03-29 18:45:53+00:00</td>\n",
       "      <td>-73.874439</td>\n",
       "      <td>40.773819</td>\n",
       "      <td>-73.874439</td>\n",
       "      <td>40.773819</td>\n",
       "      <td>1.0</td>\n",
       "      <td>2013</td>\n",
       "      <td>3</td>\n",
       "      <td>29</td>\n",
       "      <td>18</td>\n",
       "      <td>4</td>\n",
       "      <td>45</td>\n",
       "      <td>0.000000</td>\n",
       "    </tr>\n",
       "    <tr>\n",
       "      <th>10705</th>\n",
       "      <td>2.50</td>\n",
       "      <td>2013-09-13 16:14:28+00:00</td>\n",
       "      <td>-73.950813</td>\n",
       "      <td>40.771671</td>\n",
       "      <td>-73.950813</td>\n",
       "      <td>40.771671</td>\n",
       "      <td>1.0</td>\n",
       "      <td>2013</td>\n",
       "      <td>9</td>\n",
       "      <td>13</td>\n",
       "      <td>16</td>\n",
       "      <td>4</td>\n",
       "      <td>14</td>\n",
       "      <td>0.000000</td>\n",
       "    </tr>\n",
       "    <tr>\n",
       "      <th>13571</th>\n",
       "      <td>2.50</td>\n",
       "      <td>2009-03-09 12:26:25+00:00</td>\n",
       "      <td>-73.416169</td>\n",
       "      <td>40.784140</td>\n",
       "      <td>-73.416169</td>\n",
       "      <td>40.784140</td>\n",
       "      <td>1.0</td>\n",
       "      <td>2009</td>\n",
       "      <td>3</td>\n",
       "      <td>9</td>\n",
       "      <td>12</td>\n",
       "      <td>0</td>\n",
       "      <td>26</td>\n",
       "      <td>0.000000</td>\n",
       "    </tr>\n",
       "  </tbody>\n",
       "</table>\n",
       "<p>15570 rows × 14 columns</p>\n",
       "</div>"
      ],
      "text/plain": [
       "       fare_amount           pickup_datetime  pickup_longitude  \\\n",
       "10710         3.70 2011-02-11 21:46:09+00:00        -73.955411   \n",
       "14536         4.10 2011-04-03 12:16:46+00:00        -73.982155   \n",
       "11619        11.30 2011-05-27 21:47:44+00:00        -73.945106   \n",
       "12228        16.50 2011-04-26 23:18:56+00:00        -73.993360   \n",
       "5663         49.15 2009-02-25 07:05:05+00:00        -73.137393   \n",
       "...            ...                       ...               ...   \n",
       "8711          2.50 2013-01-02 09:33:21+00:00        -73.978626   \n",
       "9177          2.50 2010-12-06 11:48:34+00:00        -73.946993   \n",
       "9773          2.50 2013-03-29 18:45:53+00:00        -73.874439   \n",
       "10705         2.50 2013-09-13 16:14:28+00:00        -73.950813   \n",
       "13571         2.50 2009-03-09 12:26:25+00:00        -73.416169   \n",
       "\n",
       "       pickup_latitude  dropoff_longitude  dropoff_latitude  passenger_count  \\\n",
       "10710        39.604164         -73.955647         40.772837              1.0   \n",
       "14536        40.775187         -73.976399         39.610030              1.0   \n",
       "11619        39.603178         -73.976636         40.749643              1.0   \n",
       "12228        40.721749         -73.977370         39.610604              2.0   \n",
       "5663         41.366138         -74.000940         40.731723              1.0   \n",
       "...                ...                ...               ...              ...   \n",
       "8711         40.744067         -73.978626         40.744067              1.0   \n",
       "9177         40.744583         -73.946993         40.744583              3.0   \n",
       "9773         40.773819         -73.874439         40.773819              1.0   \n",
       "10705        40.771671         -73.950813         40.771671              1.0   \n",
       "13571        40.784140         -73.416169         40.784140              1.0   \n",
       "\n",
       "       pickup_year  pickup_month  pickup_date  pickup_hour  pickup_Dayofweek  \\\n",
       "10710         2011             2           11           21                 4   \n",
       "14536         2011             4            3           12                 6   \n",
       "11619         2011             5           27           21                 4   \n",
       "12228         2011             4           26           23                 1   \n",
       "5663          2009             2           25            7                 2   \n",
       "...            ...           ...          ...          ...               ...   \n",
       "8711          2013             1            2            9                 2   \n",
       "9177          2010            12            6           11                 0   \n",
       "9773          2013             3           29           18                 4   \n",
       "10705         2013             9           13           16                 4   \n",
       "13571         2009             3            9           12                 0   \n",
       "\n",
       "       pickup_minute  H_Distance  \n",
       "10710             46  129.950482  \n",
       "14536             16  129.560455  \n",
       "11619             47  127.509261  \n",
       "12228             18  123.561157  \n",
       "5663               5  101.094619  \n",
       "...              ...         ...  \n",
       "8711              33    0.000000  \n",
       "9177              48    0.000000  \n",
       "9773              45    0.000000  \n",
       "10705             14    0.000000  \n",
       "13571             26    0.000000  \n",
       "\n",
       "[15570 rows x 14 columns]"
      ]
     },
     "execution_count": 287,
     "metadata": {},
     "output_type": "execute_result"
    }
   ],
   "source": [
    "train.sort_values(['H_Distance', 'fare_amount'],ascending = False)"
   ]
  },
  {
   "cell_type": "code",
   "execution_count": 288,
   "metadata": {},
   "outputs": [
    {
     "data": {
      "text/plain": [
       "Text(0, 0.5, 'Frequency')"
      ]
     },
     "execution_count": 288,
     "metadata": {},
     "output_type": "execute_result"
    },
    {
     "data": {
      "image/png": "[encoded data removed]",
      "text/plain": [
       "<Figure size 1080x504 with 1 Axes>"
      ]
     },
     "metadata": {
      "needs_background": "light"
     },
     "output_type": "display_data"
    }
   ],
   "source": [
    "plt.figure(figsize = (15,7))\n",
    "plt.hist(train['H_Distance'], bins=75)\n",
    "plt.xlabel('Distance in Kms')\n",
    "plt.ylabel('Frequency')"
   ]
  },
  {
   "cell_type": "code",
   "execution_count": 289,
   "metadata": {},
   "outputs": [
    {
     "data": {
      "text/plain": [
       "Text(0, 0.5, 'Fare')"
      ]
     },
     "execution_count": 289,
     "metadata": {},
     "output_type": "execute_result"
    },
    {
     "data": {
      "image/png": "[encoded data removed]",
      "text/plain": [
       "<Figure size 1080x504 with 1 Axes>"
      ]
     },
     "metadata": {
      "needs_background": "light"
     },
     "output_type": "display_data"
    }
   ],
   "source": [
    "plt.figure(figsize = (15,7))\n",
    "plt.scatter(x = train['H_Distance'], y = train['fare_amount'], s=1.5 )\n",
    "plt.xlabel('Distance in Kms')\n",
    "plt.ylabel('Fare')# as we see outliers here ater 50km we will drop them"
   ]
  },
  {
   "cell_type": "code",
   "execution_count": 290,
   "metadata": {},
   "outputs": [],
   "source": [
    "train = train.drop(train[train['H_Distance']>50].index, axis =0) #11 observations dropped"
   ]
  },
  {
   "cell_type": "code",
   "execution_count": 291,
   "metadata": {},
   "outputs": [
    {
     "data": {
      "text/html": [
       "<div>\n",
       "<style scoped>\n",
       "    .dataframe tbody tr th:only-of-type {\n",
       "        vertical-align: middle;\n",
       "    }\n",
       "\n",
       "    .dataframe tbody tr th {\n",
       "        vertical-align: top;\n",
       "    }\n",
       "\n",
       "    .dataframe thead th {\n",
       "        text-align: right;\n",
       "    }\n",
       "</style>\n",
       "<table border=\"1\" class=\"dataframe\">\n",
       "  <thead>\n",
       "    <tr style=\"text-align: right;\">\n",
       "      <th></th>\n",
       "      <th>fare_amount</th>\n",
       "      <th>pickup_datetime</th>\n",
       "      <th>pickup_longitude</th>\n",
       "      <th>pickup_latitude</th>\n",
       "      <th>dropoff_longitude</th>\n",
       "      <th>dropoff_latitude</th>\n",
       "      <th>passenger_count</th>\n",
       "      <th>pickup_year</th>\n",
       "      <th>pickup_month</th>\n",
       "      <th>pickup_date</th>\n",
       "      <th>pickup_hour</th>\n",
       "      <th>pickup_Dayofweek</th>\n",
       "      <th>pickup_minute</th>\n",
       "      <th>H_Distance</th>\n",
       "    </tr>\n",
       "  </thead>\n",
       "  <tbody>\n",
       "    <tr>\n",
       "      <th>105</th>\n",
       "      <td>52.0</td>\n",
       "      <td>2009-03-25 00:08:52+00:00</td>\n",
       "      <td>-74.035839</td>\n",
       "      <td>40.747320</td>\n",
       "      <td>-74.035839</td>\n",
       "      <td>40.747320</td>\n",
       "      <td>1.0</td>\n",
       "      <td>2009</td>\n",
       "      <td>3</td>\n",
       "      <td>25</td>\n",
       "      <td>0</td>\n",
       "      <td>2</td>\n",
       "      <td>8</td>\n",
       "      <td>0.0</td>\n",
       "    </tr>\n",
       "    <tr>\n",
       "      <th>191</th>\n",
       "      <td>6.5</td>\n",
       "      <td>2014-01-08 21:55:58+00:00</td>\n",
       "      <td>-73.998488</td>\n",
       "      <td>40.726303</td>\n",
       "      <td>-73.998488</td>\n",
       "      <td>40.726303</td>\n",
       "      <td>1.0</td>\n",
       "      <td>2014</td>\n",
       "      <td>1</td>\n",
       "      <td>8</td>\n",
       "      <td>21</td>\n",
       "      <td>2</td>\n",
       "      <td>55</td>\n",
       "      <td>0.0</td>\n",
       "    </tr>\n",
       "    <tr>\n",
       "      <th>270</th>\n",
       "      <td>7.5</td>\n",
       "      <td>2012-08-25 01:53:42+00:00</td>\n",
       "      <td>-73.995892</td>\n",
       "      <td>40.746454</td>\n",
       "      <td>-73.995892</td>\n",
       "      <td>40.746454</td>\n",
       "      <td>1.0</td>\n",
       "      <td>2012</td>\n",
       "      <td>8</td>\n",
       "      <td>25</td>\n",
       "      <td>1</td>\n",
       "      <td>5</td>\n",
       "      <td>53</td>\n",
       "      <td>0.0</td>\n",
       "    </tr>\n",
       "    <tr>\n",
       "      <th>290</th>\n",
       "      <td>6.9</td>\n",
       "      <td>2009-12-14 12:33:00+00:00</td>\n",
       "      <td>-73.982432</td>\n",
       "      <td>40.745747</td>\n",
       "      <td>-73.982432</td>\n",
       "      <td>40.745747</td>\n",
       "      <td>1.0</td>\n",
       "      <td>2009</td>\n",
       "      <td>12</td>\n",
       "      <td>14</td>\n",
       "      <td>12</td>\n",
       "      <td>0</td>\n",
       "      <td>33</td>\n",
       "      <td>0.0</td>\n",
       "    </tr>\n",
       "    <tr>\n",
       "      <th>396</th>\n",
       "      <td>12.0</td>\n",
       "      <td>2014-03-12 18:12:44+00:00</td>\n",
       "      <td>-73.844904</td>\n",
       "      <td>40.736318</td>\n",
       "      <td>-73.844904</td>\n",
       "      <td>40.736318</td>\n",
       "      <td>1.0</td>\n",
       "      <td>2014</td>\n",
       "      <td>3</td>\n",
       "      <td>12</td>\n",
       "      <td>18</td>\n",
       "      <td>2</td>\n",
       "      <td>12</td>\n",
       "      <td>0.0</td>\n",
       "    </tr>\n",
       "    <tr>\n",
       "      <th>...</th>\n",
       "      <td>...</td>\n",
       "      <td>...</td>\n",
       "      <td>...</td>\n",
       "      <td>...</td>\n",
       "      <td>...</td>\n",
       "      <td>...</td>\n",
       "      <td>...</td>\n",
       "      <td>...</td>\n",
       "      <td>...</td>\n",
       "      <td>...</td>\n",
       "      <td>...</td>\n",
       "      <td>...</td>\n",
       "      <td>...</td>\n",
       "      <td>...</td>\n",
       "    </tr>\n",
       "    <tr>\n",
       "      <th>15738</th>\n",
       "      <td>8.5</td>\n",
       "      <td>2012-05-11 07:28:00+00:00</td>\n",
       "      <td>-73.937762</td>\n",
       "      <td>40.758157</td>\n",
       "      <td>-73.937762</td>\n",
       "      <td>40.758157</td>\n",
       "      <td>1.0</td>\n",
       "      <td>2012</td>\n",
       "      <td>5</td>\n",
       "      <td>11</td>\n",
       "      <td>7</td>\n",
       "      <td>4</td>\n",
       "      <td>28</td>\n",
       "      <td>0.0</td>\n",
       "    </tr>\n",
       "    <tr>\n",
       "      <th>15769</th>\n",
       "      <td>17.0</td>\n",
       "      <td>2012-12-21 20:35:18+00:00</td>\n",
       "      <td>-74.003743</td>\n",
       "      <td>40.756404</td>\n",
       "      <td>-74.003743</td>\n",
       "      <td>40.756404</td>\n",
       "      <td>1.0</td>\n",
       "      <td>2012</td>\n",
       "      <td>12</td>\n",
       "      <td>21</td>\n",
       "      <td>20</td>\n",
       "      <td>4</td>\n",
       "      <td>35</td>\n",
       "      <td>0.0</td>\n",
       "    </tr>\n",
       "    <tr>\n",
       "      <th>15869</th>\n",
       "      <td>6.9</td>\n",
       "      <td>2009-07-22 00:02:37+00:00</td>\n",
       "      <td>-73.941874</td>\n",
       "      <td>40.748985</td>\n",
       "      <td>-73.941874</td>\n",
       "      <td>40.748985</td>\n",
       "      <td>1.0</td>\n",
       "      <td>2009</td>\n",
       "      <td>7</td>\n",
       "      <td>22</td>\n",
       "      <td>0</td>\n",
       "      <td>2</td>\n",
       "      <td>2</td>\n",
       "      <td>0.0</td>\n",
       "    </tr>\n",
       "    <tr>\n",
       "      <th>15906</th>\n",
       "      <td>12.5</td>\n",
       "      <td>2011-11-20 12:58:00+00:00</td>\n",
       "      <td>-73.928838</td>\n",
       "      <td>40.616788</td>\n",
       "      <td>-73.928838</td>\n",
       "      <td>40.616788</td>\n",
       "      <td>2.0</td>\n",
       "      <td>2011</td>\n",
       "      <td>11</td>\n",
       "      <td>20</td>\n",
       "      <td>12</td>\n",
       "      <td>6</td>\n",
       "      <td>58</td>\n",
       "      <td>0.0</td>\n",
       "    </tr>\n",
       "    <tr>\n",
       "      <th>16022</th>\n",
       "      <td>5.5</td>\n",
       "      <td>2013-04-10 12:24:00+00:00</td>\n",
       "      <td>-73.984123</td>\n",
       "      <td>40.760387</td>\n",
       "      <td>-73.984123</td>\n",
       "      <td>40.760387</td>\n",
       "      <td>6.0</td>\n",
       "      <td>2013</td>\n",
       "      <td>4</td>\n",
       "      <td>10</td>\n",
       "      <td>12</td>\n",
       "      <td>2</td>\n",
       "      <td>24</td>\n",
       "      <td>0.0</td>\n",
       "    </tr>\n",
       "  </tbody>\n",
       "</table>\n",
       "<p>155 rows × 14 columns</p>\n",
       "</div>"
      ],
      "text/plain": [
       "       fare_amount           pickup_datetime  pickup_longitude  \\\n",
       "105           52.0 2009-03-25 00:08:52+00:00        -74.035839   \n",
       "191            6.5 2014-01-08 21:55:58+00:00        -73.998488   \n",
       "270            7.5 2012-08-25 01:53:42+00:00        -73.995892   \n",
       "290            6.9 2009-12-14 12:33:00+00:00        -73.982432   \n",
       "396           12.0 2014-03-12 18:12:44+00:00        -73.844904   \n",
       "...            ...                       ...               ...   \n",
       "15738          8.5 2012-05-11 07:28:00+00:00        -73.937762   \n",
       "15769         17.0 2012-12-21 20:35:18+00:00        -74.003743   \n",
       "15869          6.9 2009-07-22 00:02:37+00:00        -73.941874   \n",
       "15906         12.5 2011-11-20 12:58:00+00:00        -73.928838   \n",
       "16022          5.5 2013-04-10 12:24:00+00:00        -73.984123   \n",
       "\n",
       "       pickup_latitude  dropoff_longitude  dropoff_latitude  passenger_count  \\\n",
       "105          40.747320         -74.035839         40.747320              1.0   \n",
       "191          40.726303         -73.998488         40.726303              1.0   \n",
       "270          40.746454         -73.995892         40.746454              1.0   \n",
       "290          40.745747         -73.982432         40.745747              1.0   \n",
       "396          40.736318         -73.844904         40.736318              1.0   \n",
       "...                ...                ...               ...              ...   \n",
       "15738        40.758157         -73.937762         40.758157              1.0   \n",
       "15769        40.756404         -74.003743         40.756404              1.0   \n",
       "15869        40.748985         -73.941874         40.748985              1.0   \n",
       "15906        40.616788         -73.928838         40.616788              2.0   \n",
       "16022        40.760387         -73.984123         40.760387              6.0   \n",
       "\n",
       "       pickup_year  pickup_month  pickup_date  pickup_hour  pickup_Dayofweek  \\\n",
       "105           2009             3           25            0                 2   \n",
       "191           2014             1            8           21                 2   \n",
       "270           2012             8           25            1                 5   \n",
       "290           2009            12           14           12                 0   \n",
       "396           2014             3           12           18                 2   \n",
       "...            ...           ...          ...          ...               ...   \n",
       "15738         2012             5           11            7                 4   \n",
       "15769         2012            12           21           20                 4   \n",
       "15869         2009             7           22            0                 2   \n",
       "15906         2011            11           20           12                 6   \n",
       "16022         2013             4           10           12                 2   \n",
       "\n",
       "       pickup_minute  H_Distance  \n",
       "105                8         0.0  \n",
       "191               55         0.0  \n",
       "270               53         0.0  \n",
       "290               33         0.0  \n",
       "396               12         0.0  \n",
       "...              ...         ...  \n",
       "15738             28         0.0  \n",
       "15769             35         0.0  \n",
       "15869              2         0.0  \n",
       "15906             58         0.0  \n",
       "16022             24         0.0  \n",
       "\n",
       "[155 rows x 14 columns]"
      ]
     },
     "execution_count": 291,
     "metadata": {},
     "output_type": "execute_result"
    }
   ],
   "source": [
    "train[train['H_Distance']==0]#The cab waited the whole time and passenger cancelled the trip after sometime. Thats the reason why the pickup and dropoff coordinates are same and maybe, passenger was charged for the waiting time."
   ]
  },
  {
   "cell_type": "code",
   "execution_count": 292,
   "metadata": {},
   "outputs": [],
   "source": [
    "train = train.drop(train[train['H_Distance']==0].index, axis=0)"
   ]
  },
  {
   "cell_type": "code",
   "execution_count": 293,
   "metadata": {},
   "outputs": [
    {
     "data": {
      "text/plain": [
       "(15404, 14)"
      ]
     },
     "execution_count": 293,
     "metadata": {},
     "output_type": "execute_result"
    }
   ],
   "source": [
    "train.shape"
   ]
  },
  {
   "cell_type": "code",
   "execution_count": 294,
   "metadata": {},
   "outputs": [
    {
     "data": {
      "text/html": [
       "<div>\n",
       "<style scoped>\n",
       "    .dataframe tbody tr th:only-of-type {\n",
       "        vertical-align: middle;\n",
       "    }\n",
       "\n",
       "    .dataframe tbody tr th {\n",
       "        vertical-align: top;\n",
       "    }\n",
       "\n",
       "    .dataframe thead th {\n",
       "        text-align: right;\n",
       "    }\n",
       "</style>\n",
       "<table border=\"1\" class=\"dataframe\">\n",
       "  <thead>\n",
       "    <tr style=\"text-align: right;\">\n",
       "      <th></th>\n",
       "      <th>pickup_datetime</th>\n",
       "      <th>pickup_longitude</th>\n",
       "      <th>pickup_latitude</th>\n",
       "      <th>dropoff_longitude</th>\n",
       "      <th>dropoff_latitude</th>\n",
       "      <th>passenger_count</th>\n",
       "      <th>pickup_year</th>\n",
       "      <th>pickup_month</th>\n",
       "      <th>pickup_date</th>\n",
       "      <th>pickup_hour</th>\n",
       "      <th>pickup_Dayofweek</th>\n",
       "      <th>pickup_minute</th>\n",
       "      <th>H_Distance</th>\n",
       "    </tr>\n",
       "  </thead>\n",
       "  <tbody>\n",
       "    <tr>\n",
       "      <th>121</th>\n",
       "      <td>2014-06-14 13:39:00+00:00</td>\n",
       "      <td>-73.980590</td>\n",
       "      <td>40.747682</td>\n",
       "      <td>-73.980590</td>\n",
       "      <td>40.747682</td>\n",
       "      <td>1.0</td>\n",
       "      <td>2014</td>\n",
       "      <td>6</td>\n",
       "      <td>14</td>\n",
       "      <td>13</td>\n",
       "      <td>5</td>\n",
       "      <td>39</td>\n",
       "      <td>0.0</td>\n",
       "    </tr>\n",
       "    <tr>\n",
       "      <th>279</th>\n",
       "      <td>2010-09-05 22:31:32+00:00</td>\n",
       "      <td>-74.047394</td>\n",
       "      <td>40.785789</td>\n",
       "      <td>-74.047394</td>\n",
       "      <td>40.785789</td>\n",
       "      <td>1.0</td>\n",
       "      <td>2010</td>\n",
       "      <td>9</td>\n",
       "      <td>5</td>\n",
       "      <td>22</td>\n",
       "      <td>6</td>\n",
       "      <td>31</td>\n",
       "      <td>0.0</td>\n",
       "    </tr>\n",
       "    <tr>\n",
       "      <th>318</th>\n",
       "      <td>2009-06-10 16:55:00+00:00</td>\n",
       "      <td>-73.985862</td>\n",
       "      <td>40.744027</td>\n",
       "      <td>-73.985862</td>\n",
       "      <td>40.744027</td>\n",
       "      <td>1.0</td>\n",
       "      <td>2009</td>\n",
       "      <td>6</td>\n",
       "      <td>10</td>\n",
       "      <td>16</td>\n",
       "      <td>2</td>\n",
       "      <td>55</td>\n",
       "      <td>0.0</td>\n",
       "    </tr>\n",
       "    <tr>\n",
       "      <th>417</th>\n",
       "      <td>2011-06-24 12:03:00+00:00</td>\n",
       "      <td>-73.964615</td>\n",
       "      <td>40.777620</td>\n",
       "      <td>-73.964615</td>\n",
       "      <td>40.777620</td>\n",
       "      <td>1.0</td>\n",
       "      <td>2011</td>\n",
       "      <td>6</td>\n",
       "      <td>24</td>\n",
       "      <td>12</td>\n",
       "      <td>4</td>\n",
       "      <td>3</td>\n",
       "      <td>0.0</td>\n",
       "    </tr>\n",
       "    <tr>\n",
       "      <th>423</th>\n",
       "      <td>2011-06-24 12:03:00+00:00</td>\n",
       "      <td>-73.955065</td>\n",
       "      <td>40.771505</td>\n",
       "      <td>-73.955065</td>\n",
       "      <td>40.771505</td>\n",
       "      <td>1.0</td>\n",
       "      <td>2011</td>\n",
       "      <td>6</td>\n",
       "      <td>24</td>\n",
       "      <td>12</td>\n",
       "      <td>4</td>\n",
       "      <td>3</td>\n",
       "      <td>0.0</td>\n",
       "    </tr>\n",
       "    <tr>\n",
       "      <th>...</th>\n",
       "      <td>...</td>\n",
       "      <td>...</td>\n",
       "      <td>...</td>\n",
       "      <td>...</td>\n",
       "      <td>...</td>\n",
       "      <td>...</td>\n",
       "      <td>...</td>\n",
       "      <td>...</td>\n",
       "      <td>...</td>\n",
       "      <td>...</td>\n",
       "      <td>...</td>\n",
       "      <td>...</td>\n",
       "      <td>...</td>\n",
       "    </tr>\n",
       "    <tr>\n",
       "      <th>9478</th>\n",
       "      <td>2011-12-13 22:00:00+00:00</td>\n",
       "      <td>-73.946078</td>\n",
       "      <td>40.749467</td>\n",
       "      <td>-73.946078</td>\n",
       "      <td>40.749467</td>\n",
       "      <td>5.0</td>\n",
       "      <td>2011</td>\n",
       "      <td>12</td>\n",
       "      <td>13</td>\n",
       "      <td>22</td>\n",
       "      <td>1</td>\n",
       "      <td>0</td>\n",
       "      <td>0.0</td>\n",
       "    </tr>\n",
       "    <tr>\n",
       "      <th>9500</th>\n",
       "      <td>2014-07-21 18:19:00+00:00</td>\n",
       "      <td>-73.975767</td>\n",
       "      <td>40.752947</td>\n",
       "      <td>-73.975767</td>\n",
       "      <td>40.752947</td>\n",
       "      <td>5.0</td>\n",
       "      <td>2014</td>\n",
       "      <td>7</td>\n",
       "      <td>21</td>\n",
       "      <td>18</td>\n",
       "      <td>0</td>\n",
       "      <td>19</td>\n",
       "      <td>0.0</td>\n",
       "    </tr>\n",
       "    <tr>\n",
       "      <th>9563</th>\n",
       "      <td>2011-03-06 21:01:00+00:00</td>\n",
       "      <td>-73.990780</td>\n",
       "      <td>40.724202</td>\n",
       "      <td>-73.990780</td>\n",
       "      <td>40.724202</td>\n",
       "      <td>5.0</td>\n",
       "      <td>2011</td>\n",
       "      <td>3</td>\n",
       "      <td>6</td>\n",
       "      <td>21</td>\n",
       "      <td>6</td>\n",
       "      <td>1</td>\n",
       "      <td>0.0</td>\n",
       "    </tr>\n",
       "    <tr>\n",
       "      <th>9830</th>\n",
       "      <td>2014-07-21 18:19:00+00:00</td>\n",
       "      <td>-73.981425</td>\n",
       "      <td>40.773935</td>\n",
       "      <td>-73.981425</td>\n",
       "      <td>40.773935</td>\n",
       "      <td>6.0</td>\n",
       "      <td>2014</td>\n",
       "      <td>7</td>\n",
       "      <td>21</td>\n",
       "      <td>18</td>\n",
       "      <td>0</td>\n",
       "      <td>19</td>\n",
       "      <td>0.0</td>\n",
       "    </tr>\n",
       "    <tr>\n",
       "      <th>9888</th>\n",
       "      <td>2013-09-25 22:00:00+00:00</td>\n",
       "      <td>-73.956488</td>\n",
       "      <td>40.767512</td>\n",
       "      <td>-73.956488</td>\n",
       "      <td>40.767512</td>\n",
       "      <td>6.0</td>\n",
       "      <td>2013</td>\n",
       "      <td>9</td>\n",
       "      <td>25</td>\n",
       "      <td>22</td>\n",
       "      <td>2</td>\n",
       "      <td>0</td>\n",
       "      <td>0.0</td>\n",
       "    </tr>\n",
       "  </tbody>\n",
       "</table>\n",
       "<p>85 rows × 13 columns</p>\n",
       "</div>"
      ],
      "text/plain": [
       "               pickup_datetime  pickup_longitude  pickup_latitude  \\\n",
       "121  2014-06-14 13:39:00+00:00        -73.980590        40.747682   \n",
       "279  2010-09-05 22:31:32+00:00        -74.047394        40.785789   \n",
       "318  2009-06-10 16:55:00+00:00        -73.985862        40.744027   \n",
       "417  2011-06-24 12:03:00+00:00        -73.964615        40.777620   \n",
       "423  2011-06-24 12:03:00+00:00        -73.955065        40.771505   \n",
       "...                        ...               ...              ...   \n",
       "9478 2011-12-13 22:00:00+00:00        -73.946078        40.749467   \n",
       "9500 2014-07-21 18:19:00+00:00        -73.975767        40.752947   \n",
       "9563 2011-03-06 21:01:00+00:00        -73.990780        40.724202   \n",
       "9830 2014-07-21 18:19:00+00:00        -73.981425        40.773935   \n",
       "9888 2013-09-25 22:00:00+00:00        -73.956488        40.767512   \n",
       "\n",
       "      dropoff_longitude  dropoff_latitude  passenger_count  pickup_year  \\\n",
       "121          -73.980590         40.747682              1.0         2014   \n",
       "279          -74.047394         40.785789              1.0         2010   \n",
       "318          -73.985862         40.744027              1.0         2009   \n",
       "417          -73.964615         40.777620              1.0         2011   \n",
       "423          -73.955065         40.771505              1.0         2011   \n",
       "...                 ...               ...              ...          ...   \n",
       "9478         -73.946078         40.749467              5.0         2011   \n",
       "9500         -73.975767         40.752947              5.0         2014   \n",
       "9563         -73.990780         40.724202              5.0         2011   \n",
       "9830         -73.981425         40.773935              6.0         2014   \n",
       "9888         -73.956488         40.767512              6.0         2013   \n",
       "\n",
       "      pickup_month  pickup_date  pickup_hour  pickup_Dayofweek  pickup_minute  \\\n",
       "121              6           14           13                 5             39   \n",
       "279              9            5           22                 6             31   \n",
       "318              6           10           16                 2             55   \n",
       "417              6           24           12                 4              3   \n",
       "423              6           24           12                 4              3   \n",
       "...            ...          ...          ...               ...            ...   \n",
       "9478            12           13           22                 1              0   \n",
       "9500             7           21           18                 0             19   \n",
       "9563             3            6           21                 6              1   \n",
       "9830             7           21           18                 0             19   \n",
       "9888             9           25           22                 2              0   \n",
       "\n",
       "      H_Distance  \n",
       "121          0.0  \n",
       "279          0.0  \n",
       "318          0.0  \n",
       "417          0.0  \n",
       "423          0.0  \n",
       "...          ...  \n",
       "9478         0.0  \n",
       "9500         0.0  \n",
       "9563         0.0  \n",
       "9830         0.0  \n",
       "9888         0.0  \n",
       "\n",
       "[85 rows x 13 columns]"
      ]
     },
     "execution_count": 294,
     "metadata": {},
     "output_type": "execute_result"
    }
   ],
   "source": [
    "test[test['H_Distance']==0]"
   ]
  },
  {
   "cell_type": "code",
   "execution_count": 295,
   "metadata": {},
   "outputs": [],
   "source": [
    "test = test.drop(test[test['H_Distance']==0].index, axis=0)"
   ]
  },
  {
   "cell_type": "code",
   "execution_count": 296,
   "metadata": {},
   "outputs": [
    {
     "data": {
      "text/plain": [
       "(9829, 13)"
      ]
     },
     "execution_count": 296,
     "metadata": {},
     "output_type": "execute_result"
    }
   ],
   "source": [
    "test.shape"
   ]
  },
  {
   "cell_type": "markdown",
   "metadata": {},
   "source": [
    "# modelling and predicting"
   ]
  },
  {
   "cell_type": "code",
   "execution_count": 297,
   "metadata": {},
   "outputs": [],
   "source": [
    "#Currently I am dealing with Regression Model So I am considering following algorithm models:\n",
    "#Linear Regression\n",
    "#Decision Tree\n",
    "#Random Forest"
   ]
  },
  {
   "cell_type": "code",
   "execution_count": 339,
   "metadata": {},
   "outputs": [],
   "source": [
    "#https://github.com/DishankBari/CarFarePrediction/blob/master/Care%20Fare%20Prediction%20Project%20Report%20-%20Dishank.pdf"
   ]
  },
  {
   "cell_type": "code",
   "execution_count": 298,
   "metadata": {},
   "outputs": [
    {
     "data": {
      "text/plain": [
       "Index(['fare_amount', 'pickup_datetime', 'pickup_longitude', 'pickup_latitude',\n",
       "       'dropoff_longitude', 'dropoff_latitude', 'passenger_count',\n",
       "       'pickup_year', 'pickup_month', 'pickup_date', 'pickup_hour',\n",
       "       'pickup_Dayofweek', 'pickup_minute', 'H_Distance'],\n",
       "      dtype='object')"
      ]
     },
     "execution_count": 298,
     "metadata": {},
     "output_type": "execute_result"
    }
   ],
   "source": [
    "train.columns"
   ]
  },
  {
   "cell_type": "code",
   "execution_count": 299,
   "metadata": {},
   "outputs": [
    {
     "data": {
      "text/plain": [
       "Index(['pickup_datetime', 'pickup_longitude', 'pickup_latitude',\n",
       "       'dropoff_longitude', 'dropoff_latitude', 'passenger_count',\n",
       "       'pickup_year', 'pickup_month', 'pickup_date', 'pickup_hour',\n",
       "       'pickup_Dayofweek', 'pickup_minute', 'H_Distance'],\n",
       "      dtype='object')"
      ]
     },
     "execution_count": 299,
     "metadata": {},
     "output_type": "execute_result"
    }
   ],
   "source": [
    "test.columns"
   ]
  },
  {
   "cell_type": "code",
   "execution_count": 300,
   "metadata": {},
   "outputs": [],
   "source": [
    "#now we will be dropping datetime_pickup\n",
    "train = train.drop(columns='pickup_datetime')\n",
    "test = test.drop(columns='pickup_datetime')"
   ]
  },
  {
   "cell_type": "code",
   "execution_count": 301,
   "metadata": {},
   "outputs": [],
   "source": [
    "X = train.drop('fare_amount', axis=1)# defining feature matrix\n"
   ]
  },
  {
   "cell_type": "code",
   "execution_count": 302,
   "metadata": {},
   "outputs": [
    {
     "data": {
      "text/html": [
       "<div>\n",
       "<style scoped>\n",
       "    .dataframe tbody tr th:only-of-type {\n",
       "        vertical-align: middle;\n",
       "    }\n",
       "\n",
       "    .dataframe tbody tr th {\n",
       "        vertical-align: top;\n",
       "    }\n",
       "\n",
       "    .dataframe thead th {\n",
       "        text-align: right;\n",
       "    }\n",
       "</style>\n",
       "<table border=\"1\" class=\"dataframe\">\n",
       "  <thead>\n",
       "    <tr style=\"text-align: right;\">\n",
       "      <th></th>\n",
       "      <th>pickup_longitude</th>\n",
       "      <th>pickup_latitude</th>\n",
       "      <th>dropoff_longitude</th>\n",
       "      <th>dropoff_latitude</th>\n",
       "      <th>passenger_count</th>\n",
       "      <th>pickup_year</th>\n",
       "      <th>pickup_month</th>\n",
       "      <th>pickup_date</th>\n",
       "      <th>pickup_hour</th>\n",
       "      <th>pickup_Dayofweek</th>\n",
       "      <th>pickup_minute</th>\n",
       "      <th>H_Distance</th>\n",
       "    </tr>\n",
       "  </thead>\n",
       "  <tbody>\n",
       "    <tr>\n",
       "      <th>0</th>\n",
       "      <td>-73.844311</td>\n",
       "      <td>40.721319</td>\n",
       "      <td>-73.841610</td>\n",
       "      <td>40.712278</td>\n",
       "      <td>1.0</td>\n",
       "      <td>2009</td>\n",
       "      <td>6</td>\n",
       "      <td>15</td>\n",
       "      <td>17</td>\n",
       "      <td>0</td>\n",
       "      <td>26</td>\n",
       "      <td>1.030764</td>\n",
       "    </tr>\n",
       "    <tr>\n",
       "      <th>1</th>\n",
       "      <td>-74.016048</td>\n",
       "      <td>40.711303</td>\n",
       "      <td>-73.979268</td>\n",
       "      <td>40.782004</td>\n",
       "      <td>1.0</td>\n",
       "      <td>2010</td>\n",
       "      <td>1</td>\n",
       "      <td>5</td>\n",
       "      <td>16</td>\n",
       "      <td>1</td>\n",
       "      <td>52</td>\n",
       "      <td>8.450134</td>\n",
       "    </tr>\n",
       "    <tr>\n",
       "      <th>2</th>\n",
       "      <td>-73.982738</td>\n",
       "      <td>40.761270</td>\n",
       "      <td>-73.991242</td>\n",
       "      <td>40.750562</td>\n",
       "      <td>2.0</td>\n",
       "      <td>2011</td>\n",
       "      <td>8</td>\n",
       "      <td>18</td>\n",
       "      <td>0</td>\n",
       "      <td>3</td>\n",
       "      <td>35</td>\n",
       "      <td>1.389525</td>\n",
       "    </tr>\n",
       "    <tr>\n",
       "      <th>3</th>\n",
       "      <td>-73.987130</td>\n",
       "      <td>40.733143</td>\n",
       "      <td>-73.991567</td>\n",
       "      <td>40.758092</td>\n",
       "      <td>1.0</td>\n",
       "      <td>2012</td>\n",
       "      <td>4</td>\n",
       "      <td>21</td>\n",
       "      <td>4</td>\n",
       "      <td>5</td>\n",
       "      <td>30</td>\n",
       "      <td>2.799270</td>\n",
       "    </tr>\n",
       "    <tr>\n",
       "      <th>4</th>\n",
       "      <td>-73.968095</td>\n",
       "      <td>40.768008</td>\n",
       "      <td>-73.956655</td>\n",
       "      <td>40.783762</td>\n",
       "      <td>1.0</td>\n",
       "      <td>2010</td>\n",
       "      <td>3</td>\n",
       "      <td>9</td>\n",
       "      <td>7</td>\n",
       "      <td>1</td>\n",
       "      <td>51</td>\n",
       "      <td>1.999157</td>\n",
       "    </tr>\n",
       "    <tr>\n",
       "      <th>...</th>\n",
       "      <td>...</td>\n",
       "      <td>...</td>\n",
       "      <td>...</td>\n",
       "      <td>...</td>\n",
       "      <td>...</td>\n",
       "      <td>...</td>\n",
       "      <td>...</td>\n",
       "      <td>...</td>\n",
       "      <td>...</td>\n",
       "      <td>...</td>\n",
       "      <td>...</td>\n",
       "      <td>...</td>\n",
       "    </tr>\n",
       "    <tr>\n",
       "      <th>16061</th>\n",
       "      <td>-73.994191</td>\n",
       "      <td>40.751138</td>\n",
       "      <td>-73.962769</td>\n",
       "      <td>40.769719</td>\n",
       "      <td>1.0</td>\n",
       "      <td>2009</td>\n",
       "      <td>5</td>\n",
       "      <td>20</td>\n",
       "      <td>18</td>\n",
       "      <td>2</td>\n",
       "      <td>56</td>\n",
       "      <td>3.357490</td>\n",
       "    </tr>\n",
       "    <tr>\n",
       "      <th>16062</th>\n",
       "      <td>-74.008820</td>\n",
       "      <td>40.718757</td>\n",
       "      <td>-73.998865</td>\n",
       "      <td>40.719987</td>\n",
       "      <td>1.0</td>\n",
       "      <td>2014</td>\n",
       "      <td>12</td>\n",
       "      <td>12</td>\n",
       "      <td>7</td>\n",
       "      <td>4</td>\n",
       "      <td>41</td>\n",
       "      <td>0.850044</td>\n",
       "    </tr>\n",
       "    <tr>\n",
       "      <th>16063</th>\n",
       "      <td>-73.981310</td>\n",
       "      <td>40.781695</td>\n",
       "      <td>-74.014392</td>\n",
       "      <td>40.715527</td>\n",
       "      <td>2.0</td>\n",
       "      <td>2009</td>\n",
       "      <td>7</td>\n",
       "      <td>13</td>\n",
       "      <td>7</td>\n",
       "      <td>0</td>\n",
       "      <td>58</td>\n",
       "      <td>7.867638</td>\n",
       "    </tr>\n",
       "    <tr>\n",
       "      <th>16064</th>\n",
       "      <td>-73.972507</td>\n",
       "      <td>40.753417</td>\n",
       "      <td>-73.979577</td>\n",
       "      <td>40.765495</td>\n",
       "      <td>1.0</td>\n",
       "      <td>2009</td>\n",
       "      <td>11</td>\n",
       "      <td>11</td>\n",
       "      <td>11</td>\n",
       "      <td>2</td>\n",
       "      <td>19</td>\n",
       "      <td>1.469105</td>\n",
       "    </tr>\n",
       "    <tr>\n",
       "      <th>16065</th>\n",
       "      <td>-73.957027</td>\n",
       "      <td>40.765945</td>\n",
       "      <td>-73.981983</td>\n",
       "      <td>40.779560</td>\n",
       "      <td>1.0</td>\n",
       "      <td>2010</td>\n",
       "      <td>5</td>\n",
       "      <td>11</td>\n",
       "      <td>23</td>\n",
       "      <td>1</td>\n",
       "      <td>53</td>\n",
       "      <td>2.590036</td>\n",
       "    </tr>\n",
       "  </tbody>\n",
       "</table>\n",
       "<p>15404 rows × 12 columns</p>\n",
       "</div>"
      ],
      "text/plain": [
       "       pickup_longitude  pickup_latitude  dropoff_longitude  dropoff_latitude  \\\n",
       "0            -73.844311        40.721319         -73.841610         40.712278   \n",
       "1            -74.016048        40.711303         -73.979268         40.782004   \n",
       "2            -73.982738        40.761270         -73.991242         40.750562   \n",
       "3            -73.987130        40.733143         -73.991567         40.758092   \n",
       "4            -73.968095        40.768008         -73.956655         40.783762   \n",
       "...                 ...              ...                ...               ...   \n",
       "16061        -73.994191        40.751138         -73.962769         40.769719   \n",
       "16062        -74.008820        40.718757         -73.998865         40.719987   \n",
       "16063        -73.981310        40.781695         -74.014392         40.715527   \n",
       "16064        -73.972507        40.753417         -73.979577         40.765495   \n",
       "16065        -73.957027        40.765945         -73.981983         40.779560   \n",
       "\n",
       "       passenger_count  pickup_year  pickup_month  pickup_date  pickup_hour  \\\n",
       "0                  1.0         2009             6           15           17   \n",
       "1                  1.0         2010             1            5           16   \n",
       "2                  2.0         2011             8           18            0   \n",
       "3                  1.0         2012             4           21            4   \n",
       "4                  1.0         2010             3            9            7   \n",
       "...                ...          ...           ...          ...          ...   \n",
       "16061              1.0         2009             5           20           18   \n",
       "16062              1.0         2014            12           12            7   \n",
       "16063              2.0         2009             7           13            7   \n",
       "16064              1.0         2009            11           11           11   \n",
       "16065              1.0         2010             5           11           23   \n",
       "\n",
       "       pickup_Dayofweek  pickup_minute  H_Distance  \n",
       "0                     0             26    1.030764  \n",
       "1                     1             52    8.450134  \n",
       "2                     3             35    1.389525  \n",
       "3                     5             30    2.799270  \n",
       "4                     1             51    1.999157  \n",
       "...                 ...            ...         ...  \n",
       "16061                 2             56    3.357490  \n",
       "16062                 4             41    0.850044  \n",
       "16063                 0             58    7.867638  \n",
       "16064                 2             19    1.469105  \n",
       "16065                 1             53    2.590036  \n",
       "\n",
       "[15404 rows x 12 columns]"
      ]
     },
     "execution_count": 302,
     "metadata": {},
     "output_type": "execute_result"
    }
   ],
   "source": [
    "X"
   ]
  },
  {
   "cell_type": "code",
   "execution_count": 303,
   "metadata": {},
   "outputs": [],
   "source": [
    "y = train.iloc[:,0].values"
   ]
  },
  {
   "cell_type": "code",
   "execution_count": 304,
   "metadata": {},
   "outputs": [
    {
     "data": {
      "text/plain": [
       "array([ 4.5, 16.9,  5.7, ..., 16.1,  8.5,  8.1])"
      ]
     },
     "execution_count": 304,
     "metadata": {},
     "output_type": "execute_result"
    }
   ],
   "source": [
    "y"
   ]
  },
  {
   "cell_type": "code",
   "execution_count": 305,
   "metadata": {},
   "outputs": [],
   "source": [
    "from sklearn.model_selection import train_test_split\n",
    "\n",
    "train_X, test_X, train_y, test_y =train_test_split(X,y,test_size=0.3)"
   ]
  },
  {
   "cell_type": "code",
   "execution_count": 306,
   "metadata": {},
   "outputs": [],
   "source": [
    "from sklearn import linear_model\n",
    "import statsmodels.api as sm"
   ]
  },
  {
   "cell_type": "code",
   "execution_count": 307,
   "metadata": {},
   "outputs": [],
   "source": [
    "LR_model = linear_model.LinearRegression()"
   ]
  },
  {
   "cell_type": "code",
   "execution_count": 308,
   "metadata": {},
   "outputs": [
    {
     "data": {
      "text/plain": [
       "LinearRegression()"
      ]
     },
     "execution_count": 308,
     "metadata": {},
     "output_type": "execute_result"
    }
   ],
   "source": [
    "LR_model.fit(train_X,train_y)"
   ]
  },
  {
   "cell_type": "code",
   "execution_count": 309,
   "metadata": {},
   "outputs": [],
   "source": [
    "LR_predict = LR_model.predict(test_X)"
   ]
  },
  {
   "cell_type": "code",
   "execution_count": 310,
   "metadata": {},
   "outputs": [
    {
     "data": {
      "text/plain": [
       "array([ 7.659747  ,  5.69107073,  2.82841118, ...,  6.80591701,\n",
       "       11.10614483, 11.30437469])"
      ]
     },
     "execution_count": 310,
     "metadata": {},
     "output_type": "execute_result"
    }
   ],
   "source": [
    "LR_predict"
   ]
  },
  {
   "cell_type": "code",
   "execution_count": 311,
   "metadata": {},
   "outputs": [
    {
     "data": {
      "text/html": [
       "<table class=\"simpletable\">\n",
       "<caption>OLS Regression Results</caption>\n",
       "<tr>\n",
       "  <th>Dep. Variable:</th>            <td>y</td>        <th>  R-squared (uncentered):</th>      <td>   0.777</td> \n",
       "</tr>\n",
       "<tr>\n",
       "  <th>Model:</th>                   <td>OLS</td>       <th>  Adj. R-squared (uncentered):</th> <td>   0.776</td> \n",
       "</tr>\n",
       "<tr>\n",
       "  <th>Method:</th>             <td>Least Squares</td>  <th>  F-statistic:       </th>          <td>   3121.</td> \n",
       "</tr>\n",
       "<tr>\n",
       "  <th>Date:</th>             <td>Thu, 31 Mar 2022</td> <th>  Prob (F-statistic):</th>           <td>  0.00</td>  \n",
       "</tr>\n",
       "<tr>\n",
       "  <th>Time:</th>                 <td>19:02:21</td>     <th>  Log-Likelihood:    </th>          <td> -37000.</td> \n",
       "</tr>\n",
       "<tr>\n",
       "  <th>No. Observations:</th>      <td> 10782</td>      <th>  AIC:               </th>          <td>7.402e+04</td>\n",
       "</tr>\n",
       "<tr>\n",
       "  <th>Df Residuals:</th>          <td> 10770</td>      <th>  BIC:               </th>          <td>7.411e+04</td>\n",
       "</tr>\n",
       "<tr>\n",
       "  <th>Df Model:</th>              <td>    12</td>      <th>                     </th>              <td> </td>    \n",
       "</tr>\n",
       "<tr>\n",
       "  <th>Covariance Type:</th>      <td>nonrobust</td>    <th>                     </th>              <td> </td>    \n",
       "</tr>\n",
       "</table>\n",
       "<table class=\"simpletable\">\n",
       "<tr>\n",
       "          <td></td>             <th>coef</th>     <th>std err</th>      <th>t</th>      <th>P>|t|</th>  <th>[0.025</th>    <th>0.975]</th>  \n",
       "</tr>\n",
       "<tr>\n",
       "  <th>pickup_longitude</th>  <td>   12.5574</td> <td>    1.978</td> <td>    6.350</td> <td> 0.000</td> <td>    8.681</td> <td>   16.434</td>\n",
       "</tr>\n",
       "<tr>\n",
       "  <th>pickup_latitude</th>   <td>   11.2283</td> <td>    2.736</td> <td>    4.104</td> <td> 0.000</td> <td>    5.866</td> <td>   16.591</td>\n",
       "</tr>\n",
       "<tr>\n",
       "  <th>dropoff_longitude</th> <td>    2.1422</td> <td>    1.908</td> <td>    1.122</td> <td> 0.262</td> <td>   -1.599</td> <td>    5.883</td>\n",
       "</tr>\n",
       "<tr>\n",
       "  <th>dropoff_latitude</th>  <td>   -9.5298</td> <td>    2.434</td> <td>   -3.916</td> <td> 0.000</td> <td>  -14.300</td> <td>   -4.760</td>\n",
       "</tr>\n",
       "<tr>\n",
       "  <th>passenger_count</th>   <td>    0.0263</td> <td>    0.057</td> <td>    0.462</td> <td> 0.644</td> <td>   -0.085</td> <td>    0.138</td>\n",
       "</tr>\n",
       "<tr>\n",
       "  <th>pickup_year</th>       <td>    0.5078</td> <td>    0.037</td> <td>   13.626</td> <td> 0.000</td> <td>    0.435</td> <td>    0.581</td>\n",
       "</tr>\n",
       "<tr>\n",
       "  <th>pickup_month</th>      <td>    0.0776</td> <td>    0.021</td> <td>    3.691</td> <td> 0.000</td> <td>    0.036</td> <td>    0.119</td>\n",
       "</tr>\n",
       "<tr>\n",
       "  <th>pickup_date</th>       <td>   -0.0122</td> <td>    0.008</td> <td>   -1.466</td> <td> 0.143</td> <td>   -0.029</td> <td>    0.004</td>\n",
       "</tr>\n",
       "<tr>\n",
       "  <th>pickup_hour</th>       <td>    0.0174</td> <td>    0.011</td> <td>    1.559</td> <td> 0.119</td> <td>   -0.004</td> <td>    0.039</td>\n",
       "</tr>\n",
       "<tr>\n",
       "  <th>pickup_Dayofweek</th>  <td>   -0.0573</td> <td>    0.037</td> <td>   -1.556</td> <td> 0.120</td> <td>   -0.129</td> <td>    0.015</td>\n",
       "</tr>\n",
       "<tr>\n",
       "  <th>pickup_minute</th>     <td>    0.0050</td> <td>    0.004</td> <td>    1.210</td> <td> 0.226</td> <td>   -0.003</td> <td>    0.013</td>\n",
       "</tr>\n",
       "<tr>\n",
       "  <th>H_Distance</th>        <td>    2.2130</td> <td>    0.021</td> <td>  106.487</td> <td> 0.000</td> <td>    2.172</td> <td>    2.254</td>\n",
       "</tr>\n",
       "</table>\n",
       "<table class=\"simpletable\">\n",
       "<tr>\n",
       "  <th>Omnibus:</th>       <td>30736.699</td> <th>  Durbin-Watson:     </th>    <td>   2.023</td>   \n",
       "</tr>\n",
       "<tr>\n",
       "  <th>Prob(Omnibus):</th>  <td> 0.000</td>   <th>  Jarque-Bera (JB):  </th> <td>2049437456.426</td>\n",
       "</tr>\n",
       "<tr>\n",
       "  <th>Skew:</th>           <td>37.942</td>   <th>  Prob(JB):          </th>    <td>    0.00</td>   \n",
       "</tr>\n",
       "<tr>\n",
       "  <th>Kurtosis:</th>      <td>2137.514</td>  <th>  Cond. No.          </th>    <td>9.24e+04</td>   \n",
       "</tr>\n",
       "</table><br/><br/>Warnings:<br/>[1] Standard Errors assume that the covariance matrix of the errors is correctly specified.<br/>[2] The condition number is large, 9.24e+04. This might indicate that there are<br/>strong multicollinearity or other numerical problems."
      ],
      "text/plain": [
       "<class 'statsmodels.iolib.summary.Summary'>\n",
       "\"\"\"\n",
       "                                 OLS Regression Results                                \n",
       "=======================================================================================\n",
       "Dep. Variable:                      y   R-squared (uncentered):                   0.777\n",
       "Model:                            OLS   Adj. R-squared (uncentered):              0.776\n",
       "Method:                 Least Squares   F-statistic:                              3121.\n",
       "Date:                Thu, 31 Mar 2022   Prob (F-statistic):                        0.00\n",
       "Time:                        19:02:21   Log-Likelihood:                         -37000.\n",
       "No. Observations:               10782   AIC:                                  7.402e+04\n",
       "Df Residuals:                   10770   BIC:                                  7.411e+04\n",
       "Df Model:                          12                                                  \n",
       "Covariance Type:            nonrobust                                                  \n",
       "=====================================================================================\n",
       "                        coef    std err          t      P>|t|      [0.025      0.975]\n",
       "-------------------------------------------------------------------------------------\n",
       "pickup_longitude     12.5574      1.978      6.350      0.000       8.681      16.434\n",
       "pickup_latitude      11.2283      2.736      4.104      0.000       5.866      16.591\n",
       "dropoff_longitude     2.1422      1.908      1.122      0.262      -1.599       5.883\n",
       "dropoff_latitude     -9.5298      2.434     -3.916      0.000     -14.300      -4.760\n",
       "passenger_count       0.0263      0.057      0.462      0.644      -0.085       0.138\n",
       "pickup_year           0.5078      0.037     13.626      0.000       0.435       0.581\n",
       "pickup_month          0.0776      0.021      3.691      0.000       0.036       0.119\n",
       "pickup_date          -0.0122      0.008     -1.466      0.143      -0.029       0.004\n",
       "pickup_hour           0.0174      0.011      1.559      0.119      -0.004       0.039\n",
       "pickup_Dayofweek     -0.0573      0.037     -1.556      0.120      -0.129       0.015\n",
       "pickup_minute         0.0050      0.004      1.210      0.226      -0.003       0.013\n",
       "H_Distance            2.2130      0.021    106.487      0.000       2.172       2.254\n",
       "==============================================================================\n",
       "Omnibus:                    30736.699   Durbin-Watson:                   2.023\n",
       "Prob(Omnibus):                  0.000   Jarque-Bera (JB):       2049437456.426\n",
       "Skew:                          37.942   Prob(JB):                         0.00\n",
       "Kurtosis:                    2137.514   Cond. No.                     9.24e+04\n",
       "==============================================================================\n",
       "\n",
       "Warnings:\n",
       "[1] Standard Errors assume that the covariance matrix of the errors is correctly specified.\n",
       "[2] The condition number is large, 9.24e+04. This might indicate that there are\n",
       "strong multicollinearity or other numerical problems.\n",
       "\"\"\""
      ]
     },
     "execution_count": 311,
     "metadata": {},
     "output_type": "execute_result"
    }
   ],
   "source": [
    "#train the model using training dataset\n",
    "model_LR = sm.OLS(train_y, train_X).fit()\n",
    "predict_LR = model_LR.predict(test_X)\n",
    "model_LR.summary()"
   ]
  },
  {
   "cell_type": "code",
   "execution_count": 312,
   "metadata": {},
   "outputs": [],
   "source": [
    "#pickup_longitude, pickup_latitude, dropoff_latitude, year, month, hour, H_distance have small p-values, where as dropoff_longitude, passenger_count, date have a larger p-values\n",
    "#Here I reject the null-hypothesis for pickup_longitude, pickup_latitude, dropoff_latitude, year, month, hour, H_distance\n",
    "#* There is assicoation between these variables and fare_amount\n",
    "\n",
    "\n",
    "#Fail to reject the null hypothesis for dropoff_longitude, passenger_count, date\n",
    "\n",
    "#There is no association\n",
    "#R-squared (0.848) means this model provides better fit for the given data"
   ]
  },
  {
   "cell_type": "code",
   "execution_count": 313,
   "metadata": {},
   "outputs": [],
   "source": [
    "#here we used Error Metrics to evaluate the model\n",
    "\n",
    "#Mean Absolute Error (MAE): is the mean of the absolute value of the errors: In [0,∞), the smaller the better\n",
    "\n",
    "#Mean Squared Error (MSE): is the mean of the squared errors: In [0,∞), the smaller the better\n",
    "\n",
    "#Mean Absolute Percent Error (MAPE): is the mean of the absolute percent value of the errors: In [0,1), the smaller the better\n",
    "\n",
    "#Root Mean Squared Error (RMSE) :is the square root of the mean of the squared errors: In [0,∞), the smaller the bett"
   ]
  },
  {
   "cell_type": "code",
   "execution_count": 314,
   "metadata": {},
   "outputs": [
    {
     "data": {
      "text/plain": [
       "<seaborn.axisgrid.PairGrid at 0x11bc3775688>"
      ]
     },
     "execution_count": 314,
     "metadata": {},
     "output_type": "execute_result"
    },
    {
     "data": {
      "image/png": "[encoded data removed]",
      "text/plain": [
       "<Figure size 504x504 with 1 Axes>"
      ]
     },
     "metadata": {
      "needs_background": "light"
     },
     "output_type": "display_data"
    }
   ],
   "source": [
    "#plotting scatter pair plot H_Distance vs fare_amount\n",
    "sns.pairplot(train, x_vars=['H_Distance'], y_vars='fare_amount', height = 7,kind='reg')"
   ]
  },
  {
   "cell_type": "code",
   "execution_count": 315,
   "metadata": {},
   "outputs": [],
   "source": [
    "def MAPE(true_y, pred_y):\n",
    "    mape = np.mean(np.abs(true_y-pred_y)/true_y)\n",
    "    return mape"
   ]
  },
  {
   "cell_type": "code",
   "execution_count": 316,
   "metadata": {},
   "outputs": [
    {
     "name": "stdout",
     "output_type": "stream",
     "text": [
      "MAE: 2.249378506273636\n",
      "MSE: 17.091705457684373\n",
      "MAPE: 0.21820251577913347\n",
      "RMSE: 4.134211588402845\n"
     ]
    }
   ],
   "source": [
    "from sklearn.metrics import mean_absolute_error, mean_squared_error\n",
    "# calculate MAE, MSE, MAPE, RMSE\n",
    "print(\"MAE:\",mean_absolute_error(test_y, predict_LR))\n",
    "print(\"MSE:\",mean_squared_error(test_y, predict_LR))\n",
    "print(\"MAPE:\",MAPE(test_y,predict_LR))\n",
    "print(\"RMSE:\",np.sqrt(mean_squared_error(test_y, predict_LR)))\n"
   ]
  },
  {
   "cell_type": "code",
   "execution_count": 317,
   "metadata": {},
   "outputs": [],
   "source": [
    "#DecisionTree\n"
   ]
  },
  {
   "cell_type": "code",
   "execution_count": 318,
   "metadata": {},
   "outputs": [],
   "source": [
    "from sklearn.tree import DecisionTreeRegressor"
   ]
  },
  {
   "cell_type": "code",
   "execution_count": 319,
   "metadata": {},
   "outputs": [],
   "source": [
    "model_DT = DecisionTreeRegressor(max_depth = 2).fit(train_X,train_y)\n",
    "predict_DT = model_DT.predict(test_X)"
   ]
  },
  {
   "cell_type": "code",
   "execution_count": 320,
   "metadata": {},
   "outputs": [
    {
     "name": "stdout",
     "output_type": "stream",
     "text": [
      "MAE: 2.9318709030606707\n",
      "MSE: 21.795879874177437\n",
      "MAPE: 0.3172140511135726\n",
      "RMSE: 4.668605774123302\n"
     ]
    }
   ],
   "source": [
    "print(\"MAE:\",mean_absolute_error(test_y, predict_DT))\n",
    "print(\"MSE:\",mean_squared_error(test_y, predict_DT))\n",
    "print(\"MAPE:\",MAPE(test_y,predict_DT))\n",
    "print(\"RMSE:\",np.sqrt(mean_squared_error(test_y, predict_DT)))"
   ]
  },
  {
   "cell_type": "code",
   "execution_count": 321,
   "metadata": {},
   "outputs": [],
   "source": [
    "\n",
    "from sklearn.ensemble import RandomForestRegressor"
   ]
  },
  {
   "cell_type": "code",
   "execution_count": 322,
   "metadata": {},
   "outputs": [
    {
     "data": {
      "text/plain": [
       "RandomForestRegressor(n_estimators=1000)"
      ]
     },
     "execution_count": 322,
     "metadata": {},
     "output_type": "execute_result"
    }
   ],
   "source": [
    "model_RF = RandomForestRegressor(n_estimators = 1000)\n",
    "\n",
    "##train the model using training dataset\n",
    "model_RF.fit(train_X, train_y)"
   ]
  },
  {
   "cell_type": "code",
   "execution_count": 323,
   "metadata": {},
   "outputs": [],
   "source": [
    "predict_RF = model_RF.predict(test_X)"
   ]
  },
  {
   "cell_type": "code",
   "execution_count": 324,
   "metadata": {},
   "outputs": [
    {
     "name": "stdout",
     "output_type": "stream",
     "text": [
      "MAE: 2.1184436391172596\n",
      "MSE: 36.2728738258244\n",
      "MAPE: 0.22067218209486034\n",
      "RMSE: 6.022696557674511\n"
     ]
    }
   ],
   "source": [
    "print(\"MAE:\",mean_absolute_error(test_y, predict_RF))\n",
    "print(\"MSE:\",mean_squared_error(test_y, predict_RF))\n",
    "print(\"MAPE:\",MAPE(test_y,predict_RF))\n",
    "print(\"RMSE:\",np.sqrt(mean_squared_error(test_y, predict_RF)))"
   ]
  },
  {
   "cell_type": "code",
   "execution_count": null,
   "metadata": {},
   "outputs": [],
   "source": [
    "MAPE for model evaluatiomn becasue, it calculate average absolute percent error for each time period minus actual values divided by actual values.\n",
    "Random Forest Model has smallest error metrics i.e.\n",
    "\n",
    "MAPE = 0.214435\n",
    "So, for further analysis I am selecting Random Forest Model."
   ]
  },
  {
   "cell_type": "code",
   "execution_count": 337,
   "metadata": {},
   "outputs": [],
   "source": [
    "scaler = preprocessing.MinMaxScaler()\n",
    "train_df_scaled = scaler.fit_transform(train_X)\n",
    "validation_df_scaled = scaler.transform(test_X)\n",
    "test_scaled = scaler.transform(test)"
   ]
  },
  {
   "cell_type": "code",
   "execution_count": 330,
   "metadata": {},
   "outputs": [],
   "source": [
    "model = Sequential()\n",
    "model.add(Dense(256, activation='relu', input_dim=train_df_scaled.shape[1], activity_regularizer=regularizers.l1(0.01)))\n",
    "model.add(BatchNormalization())\n",
    "model.add(Dense(128, activation='relu'))\n",
    "model.add(BatchNormalization())\n",
    "model.add(Dense(64, activation='relu'))\n",
    "model.add(BatchNormalization())\n",
    "model.add(Dense(32, activation='relu'))\n",
    "model.add(BatchNormalization())\n",
    "model.add(Dense(8, activation='relu'))\n",
    "model.add(BatchNormalization())\n",
    "model.add(Dense(1))\n",
    "\n",
    "#adam = optimizers.adam(lr=LEARNING_RATE)\n",
    "model.compile(loss='mse', optimizer='adam', metrics=['mae'])"
   ]
  },
  {
   "cell_type": "code",
   "execution_count": 332,
   "metadata": {},
   "outputs": [
    {
     "name": "stdout",
     "output_type": "stream",
     "text": [
      "Input dimension: 12\n",
      "Features used: Index(['pickup_longitude', 'pickup_latitude', 'dropoff_longitude',\n",
      "       'dropoff_latitude', 'passenger_count', 'pickup_year', 'pickup_month',\n",
      "       'pickup_date', 'pickup_hour', 'pickup_Dayofweek', 'pickup_minute',\n",
      "       'H_Distance'],\n",
      "      dtype='object')\n"
     ]
    }
   ],
   "source": [
    "print('Input dimension: %s' % train_df_scaled.shape[1])\n",
    "print('Features used: %s' % train_X.columns)"
   ]
  },
  {
   "cell_type": "code",
   "execution_count": 333,
   "metadata": {},
   "outputs": [
    {
     "name": "stdout",
     "output_type": "stream",
     "text": [
      "Model: \"sequential_1\"\n",
      "_________________________________________________________________\n",
      "Layer (type)                 Output Shape              Param #   \n",
      "=================================================================\n",
      "dense_6 (Dense)              (None, 256)               3328      \n",
      "_________________________________________________________________\n",
      "batch_normalization_5 (Batch (None, 256)               1024      \n",
      "_________________________________________________________________\n",
      "dense_7 (Dense)              (None, 128)               32896     \n",
      "_________________________________________________________________\n",
      "batch_normalization_6 (Batch (None, 128)               512       \n",
      "_________________________________________________________________\n",
      "dense_8 (Dense)              (None, 64)                8256      \n",
      "_________________________________________________________________\n",
      "batch_normalization_7 (Batch (None, 64)                256       \n",
      "_________________________________________________________________\n",
      "dense_9 (Dense)              (None, 32)                2080      \n",
      "_________________________________________________________________\n",
      "batch_normalization_8 (Batch (None, 32)                128       \n",
      "_________________________________________________________________\n",
      "dense_10 (Dense)             (None, 8)                 264       \n",
      "_________________________________________________________________\n",
      "batch_normalization_9 (Batch (None, 8)                 32        \n",
      "_________________________________________________________________\n",
      "dense_11 (Dense)             (None, 1)                 9         \n",
      "=================================================================\n",
      "Total params: 48,785\n",
      "Trainable params: 47,809\n",
      "Non-trainable params: 976\n",
      "_________________________________________________________________\n"
     ]
    }
   ],
   "source": [
    "model.summary()"
   ]
  },
  {
   "cell_type": "code",
   "execution_count": 338,
   "metadata": {},
   "outputs": [
    {
     "ename": "KeyError",
     "evalue": "'fare_amount'",
     "output_type": "error",
     "traceback": [
      "\u001b[1;31m---------------------------------------------------------------------------\u001b[0m",
      "\u001b[1;31mKeyError\u001b[0m                                  Traceback (most recent call last)",
      "\u001b[1;32m~\\anaconda3\\lib\\site-packages\\pandas\\core\\indexes\\base.py\u001b[0m in \u001b[0;36mget_loc\u001b[1;34m(self, key, method, tolerance)\u001b[0m\n\u001b[0;32m   2645\u001b[0m             \u001b[1;32mtry\u001b[0m\u001b[1;33m:\u001b[0m\u001b[1;33m\u001b[0m\u001b[1;33m\u001b[0m\u001b[0m\n\u001b[1;32m-> 2646\u001b[1;33m                 \u001b[1;32mreturn\u001b[0m \u001b[0mself\u001b[0m\u001b[1;33m.\u001b[0m\u001b[0m_engine\u001b[0m\u001b[1;33m.\u001b[0m\u001b[0mget_loc\u001b[0m\u001b[1;33m(\u001b[0m\u001b[0mkey\u001b[0m\u001b[1;33m)\u001b[0m\u001b[1;33m\u001b[0m\u001b[1;33m\u001b[0m\u001b[0m\n\u001b[0m\u001b[0;32m   2647\u001b[0m             \u001b[1;32mexcept\u001b[0m \u001b[0mKeyError\u001b[0m\u001b[1;33m:\u001b[0m\u001b[1;33m\u001b[0m\u001b[1;33m\u001b[0m\u001b[0m\n",
      "\u001b[1;32mpandas\\_libs\\index.pyx\u001b[0m in \u001b[0;36mpandas._libs.index.IndexEngine.get_loc\u001b[1;34m()\u001b[0m\n",
      "\u001b[1;32mpandas\\_libs\\index.pyx\u001b[0m in \u001b[0;36mpandas._libs.index.IndexEngine.get_loc\u001b[1;34m()\u001b[0m\n",
      "\u001b[1;32mpandas\\_libs\\hashtable_class_helper.pxi\u001b[0m in \u001b[0;36mpandas._libs.hashtable.PyObjectHashTable.get_item\u001b[1;34m()\u001b[0m\n",
      "\u001b[1;32mpandas\\_libs\\hashtable_class_helper.pxi\u001b[0m in \u001b[0;36mpandas._libs.hashtable.PyObjectHashTable.get_item\u001b[1;34m()\u001b[0m\n",
      "\u001b[1;31mKeyError\u001b[0m: 'fare_amount'",
      "\nDuring handling of the above exception, another exception occurred:\n",
      "\u001b[1;31mKeyError\u001b[0m                                  Traceback (most recent call last)",
      "\u001b[1;32m<ipython-input-338-00fd5c15f201>\u001b[0m in \u001b[0;36m<module>\u001b[1;34m\u001b[0m\n\u001b[1;32m----> 1\u001b[1;33m history = model.fit(x=train_df_scaled, y=train_X['fare_amount'].values, batch_size=256, epochs=50, \n\u001b[0m\u001b[0;32m      2\u001b[0m                     \u001b[0mverbose\u001b[0m\u001b[1;33m=\u001b[0m\u001b[1;36m1\u001b[0m\u001b[1;33m,\u001b[0m \u001b[0mvalidation_data\u001b[0m\u001b[1;33m=\u001b[0m\u001b[1;33m(\u001b[0m\u001b[0mvalidation_df_scaled\u001b[0m\u001b[1;33m,\u001b[0m \u001b[0mvalidation_labels\u001b[0m\u001b[1;33m)\u001b[0m\u001b[1;33m,\u001b[0m\u001b[1;33m\u001b[0m\u001b[1;33m\u001b[0m\u001b[0m\n\u001b[0;32m      3\u001b[0m                     shuffle=True)\n",
      "\u001b[1;32m~\\anaconda3\\lib\\site-packages\\pandas\\core\\frame.py\u001b[0m in \u001b[0;36m__getitem__\u001b[1;34m(self, key)\u001b[0m\n\u001b[0;32m   2798\u001b[0m             \u001b[1;32mif\u001b[0m \u001b[0mself\u001b[0m\u001b[1;33m.\u001b[0m\u001b[0mcolumns\u001b[0m\u001b[1;33m.\u001b[0m\u001b[0mnlevels\u001b[0m \u001b[1;33m>\u001b[0m \u001b[1;36m1\u001b[0m\u001b[1;33m:\u001b[0m\u001b[1;33m\u001b[0m\u001b[1;33m\u001b[0m\u001b[0m\n\u001b[0;32m   2799\u001b[0m                 \u001b[1;32mreturn\u001b[0m \u001b[0mself\u001b[0m\u001b[1;33m.\u001b[0m\u001b[0m_getitem_multilevel\u001b[0m\u001b[1;33m(\u001b[0m\u001b[0mkey\u001b[0m\u001b[1;33m)\u001b[0m\u001b[1;33m\u001b[0m\u001b[1;33m\u001b[0m\u001b[0m\n\u001b[1;32m-> 2800\u001b[1;33m             \u001b[0mindexer\u001b[0m \u001b[1;33m=\u001b[0m \u001b[0mself\u001b[0m\u001b[1;33m.\u001b[0m\u001b[0mcolumns\u001b[0m\u001b[1;33m.\u001b[0m\u001b[0mget_loc\u001b[0m\u001b[1;33m(\u001b[0m\u001b[0mkey\u001b[0m\u001b[1;33m)\u001b[0m\u001b[1;33m\u001b[0m\u001b[1;33m\u001b[0m\u001b[0m\n\u001b[0m\u001b[0;32m   2801\u001b[0m             \u001b[1;32mif\u001b[0m \u001b[0mis_integer\u001b[0m\u001b[1;33m(\u001b[0m\u001b[0mindexer\u001b[0m\u001b[1;33m)\u001b[0m\u001b[1;33m:\u001b[0m\u001b[1;33m\u001b[0m\u001b[1;33m\u001b[0m\u001b[0m\n\u001b[0;32m   2802\u001b[0m                 \u001b[0mindexer\u001b[0m \u001b[1;33m=\u001b[0m \u001b[1;33m[\u001b[0m\u001b[0mindexer\u001b[0m\u001b[1;33m]\u001b[0m\u001b[1;33m\u001b[0m\u001b[1;33m\u001b[0m\u001b[0m\n",
      "\u001b[1;32m~\\anaconda3\\lib\\site-packages\\pandas\\core\\indexes\\base.py\u001b[0m in \u001b[0;36mget_loc\u001b[1;34m(self, key, method, tolerance)\u001b[0m\n\u001b[0;32m   2646\u001b[0m                 \u001b[1;32mreturn\u001b[0m \u001b[0mself\u001b[0m\u001b[1;33m.\u001b[0m\u001b[0m_engine\u001b[0m\u001b[1;33m.\u001b[0m\u001b[0mget_loc\u001b[0m\u001b[1;33m(\u001b[0m\u001b[0mkey\u001b[0m\u001b[1;33m)\u001b[0m\u001b[1;33m\u001b[0m\u001b[1;33m\u001b[0m\u001b[0m\n\u001b[0;32m   2647\u001b[0m             \u001b[1;32mexcept\u001b[0m \u001b[0mKeyError\u001b[0m\u001b[1;33m:\u001b[0m\u001b[1;33m\u001b[0m\u001b[1;33m\u001b[0m\u001b[0m\n\u001b[1;32m-> 2648\u001b[1;33m                 \u001b[1;32mreturn\u001b[0m \u001b[0mself\u001b[0m\u001b[1;33m.\u001b[0m\u001b[0m_engine\u001b[0m\u001b[1;33m.\u001b[0m\u001b[0mget_loc\u001b[0m\u001b[1;33m(\u001b[0m\u001b[0mself\u001b[0m\u001b[1;33m.\u001b[0m\u001b[0m_maybe_cast_indexer\u001b[0m\u001b[1;33m(\u001b[0m\u001b[0mkey\u001b[0m\u001b[1;33m)\u001b[0m\u001b[1;33m)\u001b[0m\u001b[1;33m\u001b[0m\u001b[1;33m\u001b[0m\u001b[0m\n\u001b[0m\u001b[0;32m   2649\u001b[0m         \u001b[0mindexer\u001b[0m \u001b[1;33m=\u001b[0m \u001b[0mself\u001b[0m\u001b[1;33m.\u001b[0m\u001b[0mget_indexer\u001b[0m\u001b[1;33m(\u001b[0m\u001b[1;33m[\u001b[0m\u001b[0mkey\u001b[0m\u001b[1;33m]\u001b[0m\u001b[1;33m,\u001b[0m \u001b[0mmethod\u001b[0m\u001b[1;33m=\u001b[0m\u001b[0mmethod\u001b[0m\u001b[1;33m,\u001b[0m \u001b[0mtolerance\u001b[0m\u001b[1;33m=\u001b[0m\u001b[0mtolerance\u001b[0m\u001b[1;33m)\u001b[0m\u001b[1;33m\u001b[0m\u001b[1;33m\u001b[0m\u001b[0m\n\u001b[0;32m   2650\u001b[0m         \u001b[1;32mif\u001b[0m \u001b[0mindexer\u001b[0m\u001b[1;33m.\u001b[0m\u001b[0mndim\u001b[0m \u001b[1;33m>\u001b[0m \u001b[1;36m1\u001b[0m \u001b[1;32mor\u001b[0m \u001b[0mindexer\u001b[0m\u001b[1;33m.\u001b[0m\u001b[0msize\u001b[0m \u001b[1;33m>\u001b[0m \u001b[1;36m1\u001b[0m\u001b[1;33m:\u001b[0m\u001b[1;33m\u001b[0m\u001b[1;33m\u001b[0m\u001b[0m\n",
      "\u001b[1;32mpandas\\_libs\\index.pyx\u001b[0m in \u001b[0;36mpandas._libs.index.IndexEngine.get_loc\u001b[1;34m()\u001b[0m\n",
      "\u001b[1;32mpandas\\_libs\\index.pyx\u001b[0m in \u001b[0;36mpandas._libs.index.IndexEngine.get_loc\u001b[1;34m()\u001b[0m\n",
      "\u001b[1;32mpandas\\_libs\\hashtable_class_helper.pxi\u001b[0m in \u001b[0;36mpandas._libs.hashtable.PyObjectHashTable.get_item\u001b[1;34m()\u001b[0m\n",
      "\u001b[1;32mpandas\\_libs\\hashtable_class_helper.pxi\u001b[0m in \u001b[0;36mpandas._libs.hashtable.PyObjectHashTable.get_item\u001b[1;34m()\u001b[0m\n",
      "\u001b[1;31mKeyError\u001b[0m: 'fare_amount'"
     ]
    }
   ],
   "source": [
    "history = model.fit(x=train_df_scaled, y=train_X['fare_amount'].values, batch_size=256, epochs=50, \n",
    "                    verbose=1, validation_data=(validation_df_scaled, validation_labels), \n",
    "                    shuffle=True)"
   ]
  },
  {
   "cell_type": "code",
   "execution_count": 336,
   "metadata": {},
   "outputs": [
    {
     "data": {
      "text/html": [
       "<div>\n",
       "<style scoped>\n",
       "    .dataframe tbody tr th:only-of-type {\n",
       "        vertical-align: middle;\n",
       "    }\n",
       "\n",
       "    .dataframe tbody tr th {\n",
       "        vertical-align: top;\n",
       "    }\n",
       "\n",
       "    .dataframe thead th {\n",
       "        text-align: right;\n",
       "    }\n",
       "</style>\n",
       "<table border=\"1\" class=\"dataframe\">\n",
       "  <thead>\n",
       "    <tr style=\"text-align: right;\">\n",
       "      <th></th>\n",
       "      <th>fare_amount</th>\n",
       "      <th>pickup_longitude</th>\n",
       "      <th>pickup_latitude</th>\n",
       "      <th>dropoff_longitude</th>\n",
       "      <th>dropoff_latitude</th>\n",
       "      <th>passenger_count</th>\n",
       "      <th>pickup_year</th>\n",
       "      <th>pickup_month</th>\n",
       "      <th>pickup_date</th>\n",
       "      <th>pickup_hour</th>\n",
       "      <th>pickup_Dayofweek</th>\n",
       "      <th>pickup_minute</th>\n",
       "      <th>H_Distance</th>\n",
       "    </tr>\n",
       "  </thead>\n",
       "  <tbody>\n",
       "    <tr>\n",
       "      <th>0</th>\n",
       "      <td>4.5</td>\n",
       "      <td>-73.844311</td>\n",
       "      <td>40.721319</td>\n",
       "      <td>-73.841610</td>\n",
       "      <td>40.712278</td>\n",
       "      <td>1.0</td>\n",
       "      <td>2009</td>\n",
       "      <td>6</td>\n",
       "      <td>15</td>\n",
       "      <td>17</td>\n",
       "      <td>0</td>\n",
       "      <td>26</td>\n",
       "      <td>1.030764</td>\n",
       "    </tr>\n",
       "    <tr>\n",
       "      <th>1</th>\n",
       "      <td>16.9</td>\n",
       "      <td>-74.016048</td>\n",
       "      <td>40.711303</td>\n",
       "      <td>-73.979268</td>\n",
       "      <td>40.782004</td>\n",
       "      <td>1.0</td>\n",
       "      <td>2010</td>\n",
       "      <td>1</td>\n",
       "      <td>5</td>\n",
       "      <td>16</td>\n",
       "      <td>1</td>\n",
       "      <td>52</td>\n",
       "      <td>8.450134</td>\n",
       "    </tr>\n",
       "    <tr>\n",
       "      <th>2</th>\n",
       "      <td>5.7</td>\n",
       "      <td>-73.982738</td>\n",
       "      <td>40.761270</td>\n",
       "      <td>-73.991242</td>\n",
       "      <td>40.750562</td>\n",
       "      <td>2.0</td>\n",
       "      <td>2011</td>\n",
       "      <td>8</td>\n",
       "      <td>18</td>\n",
       "      <td>0</td>\n",
       "      <td>3</td>\n",
       "      <td>35</td>\n",
       "      <td>1.389525</td>\n",
       "    </tr>\n",
       "    <tr>\n",
       "      <th>3</th>\n",
       "      <td>7.7</td>\n",
       "      <td>-73.987130</td>\n",
       "      <td>40.733143</td>\n",
       "      <td>-73.991567</td>\n",
       "      <td>40.758092</td>\n",
       "      <td>1.0</td>\n",
       "      <td>2012</td>\n",
       "      <td>4</td>\n",
       "      <td>21</td>\n",
       "      <td>4</td>\n",
       "      <td>5</td>\n",
       "      <td>30</td>\n",
       "      <td>2.799270</td>\n",
       "    </tr>\n",
       "    <tr>\n",
       "      <th>4</th>\n",
       "      <td>5.3</td>\n",
       "      <td>-73.968095</td>\n",
       "      <td>40.768008</td>\n",
       "      <td>-73.956655</td>\n",
       "      <td>40.783762</td>\n",
       "      <td>1.0</td>\n",
       "      <td>2010</td>\n",
       "      <td>3</td>\n",
       "      <td>9</td>\n",
       "      <td>7</td>\n",
       "      <td>1</td>\n",
       "      <td>51</td>\n",
       "      <td>1.999157</td>\n",
       "    </tr>\n",
       "    <tr>\n",
       "      <th>...</th>\n",
       "      <td>...</td>\n",
       "      <td>...</td>\n",
       "      <td>...</td>\n",
       "      <td>...</td>\n",
       "      <td>...</td>\n",
       "      <td>...</td>\n",
       "      <td>...</td>\n",
       "      <td>...</td>\n",
       "      <td>...</td>\n",
       "      <td>...</td>\n",
       "      <td>...</td>\n",
       "      <td>...</td>\n",
       "      <td>...</td>\n",
       "    </tr>\n",
       "    <tr>\n",
       "      <th>16061</th>\n",
       "      <td>10.9</td>\n",
       "      <td>-73.994191</td>\n",
       "      <td>40.751138</td>\n",
       "      <td>-73.962769</td>\n",
       "      <td>40.769719</td>\n",
       "      <td>1.0</td>\n",
       "      <td>2009</td>\n",
       "      <td>5</td>\n",
       "      <td>20</td>\n",
       "      <td>18</td>\n",
       "      <td>2</td>\n",
       "      <td>56</td>\n",
       "      <td>3.357490</td>\n",
       "    </tr>\n",
       "    <tr>\n",
       "      <th>16062</th>\n",
       "      <td>6.5</td>\n",
       "      <td>-74.008820</td>\n",
       "      <td>40.718757</td>\n",
       "      <td>-73.998865</td>\n",
       "      <td>40.719987</td>\n",
       "      <td>1.0</td>\n",
       "      <td>2014</td>\n",
       "      <td>12</td>\n",
       "      <td>12</td>\n",
       "      <td>7</td>\n",
       "      <td>4</td>\n",
       "      <td>41</td>\n",
       "      <td>0.850044</td>\n",
       "    </tr>\n",
       "    <tr>\n",
       "      <th>16063</th>\n",
       "      <td>16.1</td>\n",
       "      <td>-73.981310</td>\n",
       "      <td>40.781695</td>\n",
       "      <td>-74.014392</td>\n",
       "      <td>40.715527</td>\n",
       "      <td>2.0</td>\n",
       "      <td>2009</td>\n",
       "      <td>7</td>\n",
       "      <td>13</td>\n",
       "      <td>7</td>\n",
       "      <td>0</td>\n",
       "      <td>58</td>\n",
       "      <td>7.867638</td>\n",
       "    </tr>\n",
       "    <tr>\n",
       "      <th>16064</th>\n",
       "      <td>8.5</td>\n",
       "      <td>-73.972507</td>\n",
       "      <td>40.753417</td>\n",
       "      <td>-73.979577</td>\n",
       "      <td>40.765495</td>\n",
       "      <td>1.0</td>\n",
       "      <td>2009</td>\n",
       "      <td>11</td>\n",
       "      <td>11</td>\n",
       "      <td>11</td>\n",
       "      <td>2</td>\n",
       "      <td>19</td>\n",
       "      <td>1.469105</td>\n",
       "    </tr>\n",
       "    <tr>\n",
       "      <th>16065</th>\n",
       "      <td>8.1</td>\n",
       "      <td>-73.957027</td>\n",
       "      <td>40.765945</td>\n",
       "      <td>-73.981983</td>\n",
       "      <td>40.779560</td>\n",
       "      <td>1.0</td>\n",
       "      <td>2010</td>\n",
       "      <td>5</td>\n",
       "      <td>11</td>\n",
       "      <td>23</td>\n",
       "      <td>1</td>\n",
       "      <td>53</td>\n",
       "      <td>2.590036</td>\n",
       "    </tr>\n",
       "  </tbody>\n",
       "</table>\n",
       "<p>15404 rows × 13 columns</p>\n",
       "</div>"
      ],
      "text/plain": [
       "       fare_amount  pickup_longitude  pickup_latitude  dropoff_longitude  \\\n",
       "0              4.5        -73.844311        40.721319         -73.841610   \n",
       "1             16.9        -74.016048        40.711303         -73.979268   \n",
       "2              5.7        -73.982738        40.761270         -73.991242   \n",
       "3              7.7        -73.987130        40.733143         -73.991567   \n",
       "4              5.3        -73.968095        40.768008         -73.956655   \n",
       "...            ...               ...              ...                ...   \n",
       "16061         10.9        -73.994191        40.751138         -73.962769   \n",
       "16062          6.5        -74.008820        40.718757         -73.998865   \n",
       "16063         16.1        -73.981310        40.781695         -74.014392   \n",
       "16064          8.5        -73.972507        40.753417         -73.979577   \n",
       "16065          8.1        -73.957027        40.765945         -73.981983   \n",
       "\n",
       "       dropoff_latitude  passenger_count  pickup_year  pickup_month  \\\n",
       "0             40.712278              1.0         2009             6   \n",
       "1             40.782004              1.0         2010             1   \n",
       "2             40.750562              2.0         2011             8   \n",
       "3             40.758092              1.0         2012             4   \n",
       "4             40.783762              1.0         2010             3   \n",
       "...                 ...              ...          ...           ...   \n",
       "16061         40.769719              1.0         2009             5   \n",
       "16062         40.719987              1.0         2014            12   \n",
       "16063         40.715527              2.0         2009             7   \n",
       "16064         40.765495              1.0         2009            11   \n",
       "16065         40.779560              1.0         2010             5   \n",
       "\n",
       "       pickup_date  pickup_hour  pickup_Dayofweek  pickup_minute  H_Distance  \n",
       "0               15           17                 0             26    1.030764  \n",
       "1                5           16                 1             52    8.450134  \n",
       "2               18            0                 3             35    1.389525  \n",
       "3               21            4                 5             30    2.799270  \n",
       "4                9            7                 1             51    1.999157  \n",
       "...            ...          ...               ...            ...         ...  \n",
       "16061           20           18                 2             56    3.357490  \n",
       "16062           12            7                 4             41    0.850044  \n",
       "16063           13            7                 0             58    7.867638  \n",
       "16064           11           11                 2             19    1.469105  \n",
       "16065           11           23                 1             53    2.590036  \n",
       "\n",
       "[15404 rows x 13 columns]"
      ]
     },
     "execution_count": 336,
     "metadata": {},
     "output_type": "execute_result"
    }
   ],
   "source": [
    "train"
   ]
  },
  {
   "cell_type": "code",
   "execution_count": null,
   "metadata": {},
   "outputs": [],
   "source": [
    "plot_loss_accuracy(history)\n",
    "prediction = model.predict(test_scaled, batch_size=128, verbose=1)"
   ]
  }
 ],
 "metadata": {
  "kernelspec": {
   "display_name": "Python 3",
   "language": "python",
   "name": "python3"
  },
  "language_info": {
   "codemirror_mode": {
    "name": "ipython",
    "version": 3
   },
   "file_extension": ".py",
   "mimetype": "text/x-python",
   "name": "python",
   "nbconvert_exporter": "python",
   "pygments_lexer": "ipython3",
   "version": "3.7.6"
  }
 },
 "nbformat": 4,
 "nbformat_minor": 4
}
